{
  "nbformat": 4,
  "nbformat_minor": 0,
  "metadata": {
    "colab": {
      "provenance": [],
      "authorship_tag": "ABX9TyMf9LaSEUugI2chzoNWlnRt",
      "include_colab_link": true
    },
    "kernelspec": {
      "name": "python3",
      "display_name": "Python 3"
    },
    "language_info": {
      "name": "python"
    }
  },
  "cells": [
    {
      "cell_type": "markdown",
      "metadata": {
        "id": "view-in-github",
        "colab_type": "text"
      },
      "source": [
        "<a href=\"https://colab.research.google.com/github/devanshu1204/Working-Agentic_RAG/blob/main/Working_Agentic_RAG.ipynb\" target=\"_parent\"><img src=\"https://colab.research.google.com/assets/colab-badge.svg\" alt=\"Open In Colab\"/></a>"
      ]
    },
    {
      "cell_type": "code",
      "execution_count": 1,
      "metadata": {
        "id": "J7tBRwztW-xe",
        "colab": {
          "base_uri": "https://localhost:8080/"
        },
        "outputId": "7fcaa275-e4b9-4380-a68d-662e1c01fbde"
      },
      "outputs": [
        {
          "output_type": "stream",
          "name": "stdout",
          "text": [
            "Collecting python-dotenv==1.0.0\n",
            "  Downloading python_dotenv-1.0.0-py3-none-any.whl (19 kB)\n",
            "Installing collected packages: python-dotenv\n",
            "Successfully installed python-dotenv-1.0.0\n",
            "Collecting llama-index==0.10.27\n",
            "  Downloading llama_index-0.10.27-py3-none-any.whl (6.9 kB)\n",
            "Collecting llama-index-agent-openai<0.3.0,>=0.1.4 (from llama-index==0.10.27)\n",
            "  Downloading llama_index_agent_openai-0.2.8-py3-none-any.whl (13 kB)\n",
            "Collecting llama-index-cli<0.2.0,>=0.1.2 (from llama-index==0.10.27)\n",
            "  Downloading llama_index_cli-0.1.12-py3-none-any.whl (26 kB)\n",
            "Collecting llama-index-core<0.11.0,>=0.10.27 (from llama-index==0.10.27)\n",
            "  Downloading llama_index_core-0.10.55-py3-none-any.whl (15.5 MB)\n",
            "\u001b[2K     \u001b[90m━━━━━━━━━━━━━━━━━━━━━━━━━━━━━━━━━━━━━━━━\u001b[0m \u001b[32m15.5/15.5 MB\u001b[0m \u001b[31m33.9 MB/s\u001b[0m eta \u001b[36m0:00:00\u001b[0m\n",
            "\u001b[?25hCollecting llama-index-embeddings-openai<0.2.0,>=0.1.5 (from llama-index==0.10.27)\n",
            "  Downloading llama_index_embeddings_openai-0.1.10-py3-none-any.whl (6.2 kB)\n",
            "Collecting llama-index-indices-managed-llama-cloud<0.2.0,>=0.1.2 (from llama-index==0.10.27)\n",
            "  Downloading llama_index_indices_managed_llama_cloud-0.1.6-py3-none-any.whl (6.7 kB)\n",
            "Collecting llama-index-legacy<0.10.0,>=0.9.48 (from llama-index==0.10.27)\n",
            "  Downloading llama_index_legacy-0.9.48-py3-none-any.whl (2.0 MB)\n",
            "\u001b[2K     \u001b[90m━━━━━━━━━━━━━━━━━━━━━━━━━━━━━━━━━━━━━━━━\u001b[0m \u001b[32m2.0/2.0 MB\u001b[0m \u001b[31m39.3 MB/s\u001b[0m eta \u001b[36m0:00:00\u001b[0m\n",
            "\u001b[?25hCollecting llama-index-llms-openai<0.2.0,>=0.1.13 (from llama-index==0.10.27)\n",
            "  Downloading llama_index_llms_openai-0.1.25-py3-none-any.whl (11 kB)\n",
            "Collecting llama-index-multi-modal-llms-openai<0.2.0,>=0.1.3 (from llama-index==0.10.27)\n",
            "  Downloading llama_index_multi_modal_llms_openai-0.1.7-py3-none-any.whl (5.9 kB)\n",
            "Collecting llama-index-program-openai<0.2.0,>=0.1.3 (from llama-index==0.10.27)\n",
            "  Downloading llama_index_program_openai-0.1.6-py3-none-any.whl (5.2 kB)\n",
            "Collecting llama-index-question-gen-openai<0.2.0,>=0.1.2 (from llama-index==0.10.27)\n",
            "  Downloading llama_index_question_gen_openai-0.1.3-py3-none-any.whl (2.9 kB)\n",
            "Collecting llama-index-readers-file<0.2.0,>=0.1.4 (from llama-index==0.10.27)\n",
            "  Downloading llama_index_readers_file-0.1.30-py3-none-any.whl (38 kB)\n",
            "Collecting llama-index-readers-llama-parse<0.2.0,>=0.1.2 (from llama-index==0.10.27)\n",
            "  Downloading llama_index_readers_llama_parse-0.1.6-py3-none-any.whl (2.5 kB)\n",
            "Collecting openai>=1.14.0 (from llama-index-agent-openai<0.3.0,>=0.1.4->llama-index==0.10.27)\n",
            "  Downloading openai-1.35.14-py3-none-any.whl (328 kB)\n",
            "\u001b[2K     \u001b[90m━━━━━━━━━━━━━━━━━━━━━━━━━━━━━━━━━━━━━━━━\u001b[0m \u001b[32m328.5/328.5 kB\u001b[0m \u001b[31m19.3 MB/s\u001b[0m eta \u001b[36m0:00:00\u001b[0m\n",
            "\u001b[?25hRequirement already satisfied: PyYAML>=6.0.1 in /usr/local/lib/python3.10/dist-packages (from llama-index-core<0.11.0,>=0.10.27->llama-index==0.10.27) (6.0.1)\n",
            "Requirement already satisfied: SQLAlchemy[asyncio]>=1.4.49 in /usr/local/lib/python3.10/dist-packages (from llama-index-core<0.11.0,>=0.10.27->llama-index==0.10.27) (2.0.31)\n",
            "Requirement already satisfied: aiohttp<4.0.0,>=3.8.6 in /usr/local/lib/python3.10/dist-packages (from llama-index-core<0.11.0,>=0.10.27->llama-index==0.10.27) (3.9.5)\n",
            "Collecting dataclasses-json (from llama-index-core<0.11.0,>=0.10.27->llama-index==0.10.27)\n",
            "  Downloading dataclasses_json-0.6.7-py3-none-any.whl (28 kB)\n",
            "Collecting deprecated>=1.2.9.3 (from llama-index-core<0.11.0,>=0.10.27->llama-index==0.10.27)\n",
            "  Downloading Deprecated-1.2.14-py2.py3-none-any.whl (9.6 kB)\n",
            "Collecting dirtyjson<2.0.0,>=1.0.8 (from llama-index-core<0.11.0,>=0.10.27->llama-index==0.10.27)\n",
            "  Downloading dirtyjson-1.0.8-py3-none-any.whl (25 kB)\n",
            "Requirement already satisfied: fsspec>=2023.5.0 in /usr/local/lib/python3.10/dist-packages (from llama-index-core<0.11.0,>=0.10.27->llama-index==0.10.27) (2023.6.0)\n",
            "Collecting httpx (from llama-index-core<0.11.0,>=0.10.27->llama-index==0.10.27)\n",
            "  Downloading httpx-0.27.0-py3-none-any.whl (75 kB)\n",
            "\u001b[2K     \u001b[90m━━━━━━━━━━━━━━━━━━━━━━━━━━━━━━━━━━━━━━━━\u001b[0m \u001b[32m75.6/75.6 kB\u001b[0m \u001b[31m8.9 MB/s\u001b[0m eta \u001b[36m0:00:00\u001b[0m\n",
            "\u001b[?25hRequirement already satisfied: nest-asyncio<2.0.0,>=1.5.8 in /usr/local/lib/python3.10/dist-packages (from llama-index-core<0.11.0,>=0.10.27->llama-index==0.10.27) (1.6.0)\n",
            "Requirement already satisfied: networkx>=3.0 in /usr/local/lib/python3.10/dist-packages (from llama-index-core<0.11.0,>=0.10.27->llama-index==0.10.27) (3.3)\n",
            "Requirement already satisfied: nltk<4.0.0,>=3.8.1 in /usr/local/lib/python3.10/dist-packages (from llama-index-core<0.11.0,>=0.10.27->llama-index==0.10.27) (3.8.1)\n",
            "Requirement already satisfied: numpy<2.0.0 in /usr/local/lib/python3.10/dist-packages (from llama-index-core<0.11.0,>=0.10.27->llama-index==0.10.27) (1.25.2)\n",
            "Requirement already satisfied: pandas in /usr/local/lib/python3.10/dist-packages (from llama-index-core<0.11.0,>=0.10.27->llama-index==0.10.27) (2.0.3)\n",
            "Requirement already satisfied: pillow>=9.0.0 in /usr/local/lib/python3.10/dist-packages (from llama-index-core<0.11.0,>=0.10.27->llama-index==0.10.27) (9.4.0)\n",
            "Requirement already satisfied: requests>=2.31.0 in /usr/local/lib/python3.10/dist-packages (from llama-index-core<0.11.0,>=0.10.27->llama-index==0.10.27) (2.31.0)\n",
            "Requirement already satisfied: tenacity!=8.4.0,<9.0.0,>=8.2.0 in /usr/local/lib/python3.10/dist-packages (from llama-index-core<0.11.0,>=0.10.27->llama-index==0.10.27) (8.5.0)\n",
            "Collecting tiktoken>=0.3.3 (from llama-index-core<0.11.0,>=0.10.27->llama-index==0.10.27)\n",
            "  Downloading tiktoken-0.7.0-cp310-cp310-manylinux_2_17_x86_64.manylinux2014_x86_64.whl (1.1 MB)\n",
            "\u001b[2K     \u001b[90m━━━━━━━━━━━━━━━━━━━━━━━━━━━━━━━━━━━━━━━━\u001b[0m \u001b[32m1.1/1.1 MB\u001b[0m \u001b[31m55.6 MB/s\u001b[0m eta \u001b[36m0:00:00\u001b[0m\n",
            "\u001b[?25hRequirement already satisfied: tqdm<5.0.0,>=4.66.1 in /usr/local/lib/python3.10/dist-packages (from llama-index-core<0.11.0,>=0.10.27->llama-index==0.10.27) (4.66.4)\n",
            "Requirement already satisfied: typing-extensions>=4.5.0 in /usr/local/lib/python3.10/dist-packages (from llama-index-core<0.11.0,>=0.10.27->llama-index==0.10.27) (4.12.2)\n",
            "Collecting typing-inspect>=0.8.0 (from llama-index-core<0.11.0,>=0.10.27->llama-index==0.10.27)\n",
            "  Downloading typing_inspect-0.9.0-py3-none-any.whl (8.8 kB)\n",
            "Requirement already satisfied: wrapt in /usr/local/lib/python3.10/dist-packages (from llama-index-core<0.11.0,>=0.10.27->llama-index==0.10.27) (1.14.1)\n",
            "Collecting llamaindex-py-client<0.2.0,>=0.1.19 (from llama-index-indices-managed-llama-cloud<0.2.0,>=0.1.2->llama-index==0.10.27)\n",
            "  Downloading llamaindex_py_client-0.1.19-py3-none-any.whl (141 kB)\n",
            "\u001b[2K     \u001b[90m━━━━━━━━━━━━━━━━━━━━━━━━━━━━━━━━━━━━━━━━\u001b[0m \u001b[32m141.9/141.9 kB\u001b[0m \u001b[31m14.3 MB/s\u001b[0m eta \u001b[36m0:00:00\u001b[0m\n",
            "\u001b[?25hRequirement already satisfied: beautifulsoup4<5.0.0,>=4.12.3 in /usr/local/lib/python3.10/dist-packages (from llama-index-readers-file<0.2.0,>=0.1.4->llama-index==0.10.27) (4.12.3)\n",
            "Collecting pypdf<5.0.0,>=4.0.1 (from llama-index-readers-file<0.2.0,>=0.1.4->llama-index==0.10.27)\n",
            "  Downloading pypdf-4.3.0-py3-none-any.whl (295 kB)\n",
            "\u001b[2K     \u001b[90m━━━━━━━━━━━━━━━━━━━━━━━━━━━━━━━━━━━━━━━━\u001b[0m \u001b[32m295.7/295.7 kB\u001b[0m \u001b[31m26.2 MB/s\u001b[0m eta \u001b[36m0:00:00\u001b[0m\n",
            "\u001b[?25hCollecting striprtf<0.0.27,>=0.0.26 (from llama-index-readers-file<0.2.0,>=0.1.4->llama-index==0.10.27)\n",
            "  Downloading striprtf-0.0.26-py3-none-any.whl (6.9 kB)\n",
            "Collecting llama-parse>=0.4.0 (from llama-index-readers-llama-parse<0.2.0,>=0.1.2->llama-index==0.10.27)\n",
            "  Downloading llama_parse-0.4.7-py3-none-any.whl (9.1 kB)\n",
            "Requirement already satisfied: aiosignal>=1.1.2 in /usr/local/lib/python3.10/dist-packages (from aiohttp<4.0.0,>=3.8.6->llama-index-core<0.11.0,>=0.10.27->llama-index==0.10.27) (1.3.1)\n",
            "Requirement already satisfied: attrs>=17.3.0 in /usr/local/lib/python3.10/dist-packages (from aiohttp<4.0.0,>=3.8.6->llama-index-core<0.11.0,>=0.10.27->llama-index==0.10.27) (23.2.0)\n",
            "Requirement already satisfied: frozenlist>=1.1.1 in /usr/local/lib/python3.10/dist-packages (from aiohttp<4.0.0,>=3.8.6->llama-index-core<0.11.0,>=0.10.27->llama-index==0.10.27) (1.4.1)\n",
            "Requirement already satisfied: multidict<7.0,>=4.5 in /usr/local/lib/python3.10/dist-packages (from aiohttp<4.0.0,>=3.8.6->llama-index-core<0.11.0,>=0.10.27->llama-index==0.10.27) (6.0.5)\n",
            "Requirement already satisfied: yarl<2.0,>=1.0 in /usr/local/lib/python3.10/dist-packages (from aiohttp<4.0.0,>=3.8.6->llama-index-core<0.11.0,>=0.10.27->llama-index==0.10.27) (1.9.4)\n",
            "Requirement already satisfied: async-timeout<5.0,>=4.0 in /usr/local/lib/python3.10/dist-packages (from aiohttp<4.0.0,>=3.8.6->llama-index-core<0.11.0,>=0.10.27->llama-index==0.10.27) (4.0.3)\n",
            "Requirement already satisfied: soupsieve>1.2 in /usr/local/lib/python3.10/dist-packages (from beautifulsoup4<5.0.0,>=4.12.3->llama-index-readers-file<0.2.0,>=0.1.4->llama-index==0.10.27) (2.5)\n",
            "Requirement already satisfied: pydantic>=1.10 in /usr/local/lib/python3.10/dist-packages (from llamaindex-py-client<0.2.0,>=0.1.19->llama-index-indices-managed-llama-cloud<0.2.0,>=0.1.2->llama-index==0.10.27) (2.8.2)\n",
            "Requirement already satisfied: anyio in /usr/local/lib/python3.10/dist-packages (from httpx->llama-index-core<0.11.0,>=0.10.27->llama-index==0.10.27) (3.7.1)\n",
            "Requirement already satisfied: certifi in /usr/local/lib/python3.10/dist-packages (from httpx->llama-index-core<0.11.0,>=0.10.27->llama-index==0.10.27) (2024.7.4)\n",
            "Collecting httpcore==1.* (from httpx->llama-index-core<0.11.0,>=0.10.27->llama-index==0.10.27)\n",
            "  Downloading httpcore-1.0.5-py3-none-any.whl (77 kB)\n",
            "\u001b[2K     \u001b[90m━━━━━━━━━━━━━━━━━━━━━━━━━━━━━━━━━━━━━━━━\u001b[0m \u001b[32m77.9/77.9 kB\u001b[0m \u001b[31m8.9 MB/s\u001b[0m eta \u001b[36m0:00:00\u001b[0m\n",
            "\u001b[?25hRequirement already satisfied: idna in /usr/local/lib/python3.10/dist-packages (from httpx->llama-index-core<0.11.0,>=0.10.27->llama-index==0.10.27) (3.7)\n",
            "Requirement already satisfied: sniffio in /usr/local/lib/python3.10/dist-packages (from httpx->llama-index-core<0.11.0,>=0.10.27->llama-index==0.10.27) (1.3.1)\n",
            "Collecting h11<0.15,>=0.13 (from httpcore==1.*->httpx->llama-index-core<0.11.0,>=0.10.27->llama-index==0.10.27)\n",
            "  Downloading h11-0.14.0-py3-none-any.whl (58 kB)\n",
            "\u001b[2K     \u001b[90m━━━━━━━━━━━━━━━━━━━━━━━━━━━━━━━━━━━━━━━━\u001b[0m \u001b[32m58.3/58.3 kB\u001b[0m \u001b[31m6.8 MB/s\u001b[0m eta \u001b[36m0:00:00\u001b[0m\n",
            "\u001b[?25hRequirement already satisfied: click in /usr/local/lib/python3.10/dist-packages (from nltk<4.0.0,>=3.8.1->llama-index-core<0.11.0,>=0.10.27->llama-index==0.10.27) (8.1.7)\n",
            "Requirement already satisfied: joblib in /usr/local/lib/python3.10/dist-packages (from nltk<4.0.0,>=3.8.1->llama-index-core<0.11.0,>=0.10.27->llama-index==0.10.27) (1.4.2)\n",
            "Requirement already satisfied: regex>=2021.8.3 in /usr/local/lib/python3.10/dist-packages (from nltk<4.0.0,>=3.8.1->llama-index-core<0.11.0,>=0.10.27->llama-index==0.10.27) (2024.5.15)\n",
            "Requirement already satisfied: distro<2,>=1.7.0 in /usr/lib/python3/dist-packages (from openai>=1.14.0->llama-index-agent-openai<0.3.0,>=0.1.4->llama-index==0.10.27) (1.7.0)\n",
            "Requirement already satisfied: charset-normalizer<4,>=2 in /usr/local/lib/python3.10/dist-packages (from requests>=2.31.0->llama-index-core<0.11.0,>=0.10.27->llama-index==0.10.27) (3.3.2)\n",
            "Requirement already satisfied: urllib3<3,>=1.21.1 in /usr/local/lib/python3.10/dist-packages (from requests>=2.31.0->llama-index-core<0.11.0,>=0.10.27->llama-index==0.10.27) (2.0.7)\n",
            "Requirement already satisfied: greenlet!=0.4.17 in /usr/local/lib/python3.10/dist-packages (from SQLAlchemy[asyncio]>=1.4.49->llama-index-core<0.11.0,>=0.10.27->llama-index==0.10.27) (3.0.3)\n",
            "Collecting mypy-extensions>=0.3.0 (from typing-inspect>=0.8.0->llama-index-core<0.11.0,>=0.10.27->llama-index==0.10.27)\n",
            "  Downloading mypy_extensions-1.0.0-py3-none-any.whl (4.7 kB)\n",
            "Collecting marshmallow<4.0.0,>=3.18.0 (from dataclasses-json->llama-index-core<0.11.0,>=0.10.27->llama-index==0.10.27)\n",
            "  Downloading marshmallow-3.21.3-py3-none-any.whl (49 kB)\n",
            "\u001b[2K     \u001b[90m━━━━━━━━━━━━━━━━━━━━━━━━━━━━━━━━━━━━━━━━\u001b[0m \u001b[32m49.2/49.2 kB\u001b[0m \u001b[31m4.4 MB/s\u001b[0m eta \u001b[36m0:00:00\u001b[0m\n",
            "\u001b[?25hRequirement already satisfied: python-dateutil>=2.8.2 in /usr/local/lib/python3.10/dist-packages (from pandas->llama-index-core<0.11.0,>=0.10.27->llama-index==0.10.27) (2.8.2)\n",
            "Requirement already satisfied: pytz>=2020.1 in /usr/local/lib/python3.10/dist-packages (from pandas->llama-index-core<0.11.0,>=0.10.27->llama-index==0.10.27) (2023.4)\n",
            "Requirement already satisfied: tzdata>=2022.1 in /usr/local/lib/python3.10/dist-packages (from pandas->llama-index-core<0.11.0,>=0.10.27->llama-index==0.10.27) (2024.1)\n",
            "Requirement already satisfied: exceptiongroup in /usr/local/lib/python3.10/dist-packages (from anyio->httpx->llama-index-core<0.11.0,>=0.10.27->llama-index==0.10.27) (1.2.1)\n",
            "Requirement already satisfied: packaging>=17.0 in /usr/local/lib/python3.10/dist-packages (from marshmallow<4.0.0,>=3.18.0->dataclasses-json->llama-index-core<0.11.0,>=0.10.27->llama-index==0.10.27) (24.1)\n",
            "Requirement already satisfied: annotated-types>=0.4.0 in /usr/local/lib/python3.10/dist-packages (from pydantic>=1.10->llamaindex-py-client<0.2.0,>=0.1.19->llama-index-indices-managed-llama-cloud<0.2.0,>=0.1.2->llama-index==0.10.27) (0.7.0)\n",
            "Requirement already satisfied: pydantic-core==2.20.1 in /usr/local/lib/python3.10/dist-packages (from pydantic>=1.10->llamaindex-py-client<0.2.0,>=0.1.19->llama-index-indices-managed-llama-cloud<0.2.0,>=0.1.2->llama-index==0.10.27) (2.20.1)\n",
            "Requirement already satisfied: six>=1.5 in /usr/local/lib/python3.10/dist-packages (from python-dateutil>=2.8.2->pandas->llama-index-core<0.11.0,>=0.10.27->llama-index==0.10.27) (1.16.0)\n",
            "Installing collected packages: striprtf, dirtyjson, pypdf, mypy-extensions, marshmallow, h11, deprecated, typing-inspect, tiktoken, httpcore, httpx, dataclasses-json, openai, llamaindex-py-client, llama-index-legacy, llama-index-core, llama-parse, llama-index-readers-file, llama-index-llms-openai, llama-index-indices-managed-llama-cloud, llama-index-embeddings-openai, llama-index-readers-llama-parse, llama-index-multi-modal-llms-openai, llama-index-cli, llama-index-agent-openai, llama-index-program-openai, llama-index-question-gen-openai, llama-index\n",
            "Successfully installed dataclasses-json-0.6.7 deprecated-1.2.14 dirtyjson-1.0.8 h11-0.14.0 httpcore-1.0.5 httpx-0.27.0 llama-index-0.10.27 llama-index-agent-openai-0.2.8 llama-index-cli-0.1.12 llama-index-core-0.10.55 llama-index-embeddings-openai-0.1.10 llama-index-indices-managed-llama-cloud-0.1.6 llama-index-legacy-0.9.48 llama-index-llms-openai-0.1.25 llama-index-multi-modal-llms-openai-0.1.7 llama-index-program-openai-0.1.6 llama-index-question-gen-openai-0.1.3 llama-index-readers-file-0.1.30 llama-index-readers-llama-parse-0.1.6 llama-parse-0.4.7 llamaindex-py-client-0.1.19 marshmallow-3.21.3 mypy-extensions-1.0.0 openai-1.35.14 pypdf-4.3.0 striprtf-0.0.26 tiktoken-0.7.0 typing-inspect-0.9.0\n",
            "Requirement already satisfied: llama-index-readers-file in /usr/local/lib/python3.10/dist-packages (0.1.30)\n",
            "Requirement already satisfied: beautifulsoup4<5.0.0,>=4.12.3 in /usr/local/lib/python3.10/dist-packages (from llama-index-readers-file) (4.12.3)\n",
            "Requirement already satisfied: llama-index-core<0.11.0,>=0.10.37.post1 in /usr/local/lib/python3.10/dist-packages (from llama-index-readers-file) (0.10.55)\n",
            "Requirement already satisfied: pypdf<5.0.0,>=4.0.1 in /usr/local/lib/python3.10/dist-packages (from llama-index-readers-file) (4.3.0)\n",
            "Requirement already satisfied: striprtf<0.0.27,>=0.0.26 in /usr/local/lib/python3.10/dist-packages (from llama-index-readers-file) (0.0.26)\n",
            "Requirement already satisfied: soupsieve>1.2 in /usr/local/lib/python3.10/dist-packages (from beautifulsoup4<5.0.0,>=4.12.3->llama-index-readers-file) (2.5)\n",
            "Requirement already satisfied: PyYAML>=6.0.1 in /usr/local/lib/python3.10/dist-packages (from llama-index-core<0.11.0,>=0.10.37.post1->llama-index-readers-file) (6.0.1)\n",
            "Requirement already satisfied: SQLAlchemy[asyncio]>=1.4.49 in /usr/local/lib/python3.10/dist-packages (from llama-index-core<0.11.0,>=0.10.37.post1->llama-index-readers-file) (2.0.31)\n",
            "Requirement already satisfied: aiohttp<4.0.0,>=3.8.6 in /usr/local/lib/python3.10/dist-packages (from llama-index-core<0.11.0,>=0.10.37.post1->llama-index-readers-file) (3.9.5)\n",
            "Requirement already satisfied: dataclasses-json in /usr/local/lib/python3.10/dist-packages (from llama-index-core<0.11.0,>=0.10.37.post1->llama-index-readers-file) (0.6.7)\n",
            "Requirement already satisfied: deprecated>=1.2.9.3 in /usr/local/lib/python3.10/dist-packages (from llama-index-core<0.11.0,>=0.10.37.post1->llama-index-readers-file) (1.2.14)\n",
            "Requirement already satisfied: dirtyjson<2.0.0,>=1.0.8 in /usr/local/lib/python3.10/dist-packages (from llama-index-core<0.11.0,>=0.10.37.post1->llama-index-readers-file) (1.0.8)\n",
            "Requirement already satisfied: fsspec>=2023.5.0 in /usr/local/lib/python3.10/dist-packages (from llama-index-core<0.11.0,>=0.10.37.post1->llama-index-readers-file) (2023.6.0)\n",
            "Requirement already satisfied: httpx in /usr/local/lib/python3.10/dist-packages (from llama-index-core<0.11.0,>=0.10.37.post1->llama-index-readers-file) (0.27.0)\n",
            "Requirement already satisfied: nest-asyncio<2.0.0,>=1.5.8 in /usr/local/lib/python3.10/dist-packages (from llama-index-core<0.11.0,>=0.10.37.post1->llama-index-readers-file) (1.6.0)\n",
            "Requirement already satisfied: networkx>=3.0 in /usr/local/lib/python3.10/dist-packages (from llama-index-core<0.11.0,>=0.10.37.post1->llama-index-readers-file) (3.3)\n",
            "Requirement already satisfied: nltk<4.0.0,>=3.8.1 in /usr/local/lib/python3.10/dist-packages (from llama-index-core<0.11.0,>=0.10.37.post1->llama-index-readers-file) (3.8.1)\n",
            "Requirement already satisfied: numpy<2.0.0 in /usr/local/lib/python3.10/dist-packages (from llama-index-core<0.11.0,>=0.10.37.post1->llama-index-readers-file) (1.25.2)\n",
            "Requirement already satisfied: openai>=1.1.0 in /usr/local/lib/python3.10/dist-packages (from llama-index-core<0.11.0,>=0.10.37.post1->llama-index-readers-file) (1.35.14)\n",
            "Requirement already satisfied: pandas in /usr/local/lib/python3.10/dist-packages (from llama-index-core<0.11.0,>=0.10.37.post1->llama-index-readers-file) (2.0.3)\n",
            "Requirement already satisfied: pillow>=9.0.0 in /usr/local/lib/python3.10/dist-packages (from llama-index-core<0.11.0,>=0.10.37.post1->llama-index-readers-file) (9.4.0)\n",
            "Requirement already satisfied: requests>=2.31.0 in /usr/local/lib/python3.10/dist-packages (from llama-index-core<0.11.0,>=0.10.37.post1->llama-index-readers-file) (2.31.0)\n",
            "Requirement already satisfied: tenacity!=8.4.0,<9.0.0,>=8.2.0 in /usr/local/lib/python3.10/dist-packages (from llama-index-core<0.11.0,>=0.10.37.post1->llama-index-readers-file) (8.5.0)\n",
            "Requirement already satisfied: tiktoken>=0.3.3 in /usr/local/lib/python3.10/dist-packages (from llama-index-core<0.11.0,>=0.10.37.post1->llama-index-readers-file) (0.7.0)\n",
            "Requirement already satisfied: tqdm<5.0.0,>=4.66.1 in /usr/local/lib/python3.10/dist-packages (from llama-index-core<0.11.0,>=0.10.37.post1->llama-index-readers-file) (4.66.4)\n",
            "Requirement already satisfied: typing-extensions>=4.5.0 in /usr/local/lib/python3.10/dist-packages (from llama-index-core<0.11.0,>=0.10.37.post1->llama-index-readers-file) (4.12.2)\n",
            "Requirement already satisfied: typing-inspect>=0.8.0 in /usr/local/lib/python3.10/dist-packages (from llama-index-core<0.11.0,>=0.10.37.post1->llama-index-readers-file) (0.9.0)\n",
            "Requirement already satisfied: wrapt in /usr/local/lib/python3.10/dist-packages (from llama-index-core<0.11.0,>=0.10.37.post1->llama-index-readers-file) (1.14.1)\n",
            "Requirement already satisfied: aiosignal>=1.1.2 in /usr/local/lib/python3.10/dist-packages (from aiohttp<4.0.0,>=3.8.6->llama-index-core<0.11.0,>=0.10.37.post1->llama-index-readers-file) (1.3.1)\n",
            "Requirement already satisfied: attrs>=17.3.0 in /usr/local/lib/python3.10/dist-packages (from aiohttp<4.0.0,>=3.8.6->llama-index-core<0.11.0,>=0.10.37.post1->llama-index-readers-file) (23.2.0)\n",
            "Requirement already satisfied: frozenlist>=1.1.1 in /usr/local/lib/python3.10/dist-packages (from aiohttp<4.0.0,>=3.8.6->llama-index-core<0.11.0,>=0.10.37.post1->llama-index-readers-file) (1.4.1)\n",
            "Requirement already satisfied: multidict<7.0,>=4.5 in /usr/local/lib/python3.10/dist-packages (from aiohttp<4.0.0,>=3.8.6->llama-index-core<0.11.0,>=0.10.37.post1->llama-index-readers-file) (6.0.5)\n",
            "Requirement already satisfied: yarl<2.0,>=1.0 in /usr/local/lib/python3.10/dist-packages (from aiohttp<4.0.0,>=3.8.6->llama-index-core<0.11.0,>=0.10.37.post1->llama-index-readers-file) (1.9.4)\n",
            "Requirement already satisfied: async-timeout<5.0,>=4.0 in /usr/local/lib/python3.10/dist-packages (from aiohttp<4.0.0,>=3.8.6->llama-index-core<0.11.0,>=0.10.37.post1->llama-index-readers-file) (4.0.3)\n",
            "Requirement already satisfied: click in /usr/local/lib/python3.10/dist-packages (from nltk<4.0.0,>=3.8.1->llama-index-core<0.11.0,>=0.10.37.post1->llama-index-readers-file) (8.1.7)\n",
            "Requirement already satisfied: joblib in /usr/local/lib/python3.10/dist-packages (from nltk<4.0.0,>=3.8.1->llama-index-core<0.11.0,>=0.10.37.post1->llama-index-readers-file) (1.4.2)\n",
            "Requirement already satisfied: regex>=2021.8.3 in /usr/local/lib/python3.10/dist-packages (from nltk<4.0.0,>=3.8.1->llama-index-core<0.11.0,>=0.10.37.post1->llama-index-readers-file) (2024.5.15)\n",
            "Requirement already satisfied: anyio<5,>=3.5.0 in /usr/local/lib/python3.10/dist-packages (from openai>=1.1.0->llama-index-core<0.11.0,>=0.10.37.post1->llama-index-readers-file) (3.7.1)\n",
            "Requirement already satisfied: distro<2,>=1.7.0 in /usr/lib/python3/dist-packages (from openai>=1.1.0->llama-index-core<0.11.0,>=0.10.37.post1->llama-index-readers-file) (1.7.0)\n",
            "Requirement already satisfied: pydantic<3,>=1.9.0 in /usr/local/lib/python3.10/dist-packages (from openai>=1.1.0->llama-index-core<0.11.0,>=0.10.37.post1->llama-index-readers-file) (2.8.2)\n",
            "Requirement already satisfied: sniffio in /usr/local/lib/python3.10/dist-packages (from openai>=1.1.0->llama-index-core<0.11.0,>=0.10.37.post1->llama-index-readers-file) (1.3.1)\n",
            "Requirement already satisfied: certifi in /usr/local/lib/python3.10/dist-packages (from httpx->llama-index-core<0.11.0,>=0.10.37.post1->llama-index-readers-file) (2024.7.4)\n",
            "Requirement already satisfied: httpcore==1.* in /usr/local/lib/python3.10/dist-packages (from httpx->llama-index-core<0.11.0,>=0.10.37.post1->llama-index-readers-file) (1.0.5)\n",
            "Requirement already satisfied: idna in /usr/local/lib/python3.10/dist-packages (from httpx->llama-index-core<0.11.0,>=0.10.37.post1->llama-index-readers-file) (3.7)\n",
            "Requirement already satisfied: h11<0.15,>=0.13 in /usr/local/lib/python3.10/dist-packages (from httpcore==1.*->httpx->llama-index-core<0.11.0,>=0.10.37.post1->llama-index-readers-file) (0.14.0)\n",
            "Requirement already satisfied: charset-normalizer<4,>=2 in /usr/local/lib/python3.10/dist-packages (from requests>=2.31.0->llama-index-core<0.11.0,>=0.10.37.post1->llama-index-readers-file) (3.3.2)\n",
            "Requirement already satisfied: urllib3<3,>=1.21.1 in /usr/local/lib/python3.10/dist-packages (from requests>=2.31.0->llama-index-core<0.11.0,>=0.10.37.post1->llama-index-readers-file) (2.0.7)\n",
            "Requirement already satisfied: greenlet!=0.4.17 in /usr/local/lib/python3.10/dist-packages (from SQLAlchemy[asyncio]>=1.4.49->llama-index-core<0.11.0,>=0.10.37.post1->llama-index-readers-file) (3.0.3)\n",
            "Requirement already satisfied: mypy-extensions>=0.3.0 in /usr/local/lib/python3.10/dist-packages (from typing-inspect>=0.8.0->llama-index-core<0.11.0,>=0.10.37.post1->llama-index-readers-file) (1.0.0)\n",
            "Requirement already satisfied: marshmallow<4.0.0,>=3.18.0 in /usr/local/lib/python3.10/dist-packages (from dataclasses-json->llama-index-core<0.11.0,>=0.10.37.post1->llama-index-readers-file) (3.21.3)\n",
            "Requirement already satisfied: python-dateutil>=2.8.2 in /usr/local/lib/python3.10/dist-packages (from pandas->llama-index-core<0.11.0,>=0.10.37.post1->llama-index-readers-file) (2.8.2)\n",
            "Requirement already satisfied: pytz>=2020.1 in /usr/local/lib/python3.10/dist-packages (from pandas->llama-index-core<0.11.0,>=0.10.37.post1->llama-index-readers-file) (2023.4)\n",
            "Requirement already satisfied: tzdata>=2022.1 in /usr/local/lib/python3.10/dist-packages (from pandas->llama-index-core<0.11.0,>=0.10.37.post1->llama-index-readers-file) (2024.1)\n",
            "Requirement already satisfied: exceptiongroup in /usr/local/lib/python3.10/dist-packages (from anyio<5,>=3.5.0->openai>=1.1.0->llama-index-core<0.11.0,>=0.10.37.post1->llama-index-readers-file) (1.2.1)\n",
            "Requirement already satisfied: packaging>=17.0 in /usr/local/lib/python3.10/dist-packages (from marshmallow<4.0.0,>=3.18.0->dataclasses-json->llama-index-core<0.11.0,>=0.10.37.post1->llama-index-readers-file) (24.1)\n",
            "Requirement already satisfied: annotated-types>=0.4.0 in /usr/local/lib/python3.10/dist-packages (from pydantic<3,>=1.9.0->openai>=1.1.0->llama-index-core<0.11.0,>=0.10.37.post1->llama-index-readers-file) (0.7.0)\n",
            "Requirement already satisfied: pydantic-core==2.20.1 in /usr/local/lib/python3.10/dist-packages (from pydantic<3,>=1.9.0->openai>=1.1.0->llama-index-core<0.11.0,>=0.10.37.post1->llama-index-readers-file) (2.20.1)\n",
            "Requirement already satisfied: six>=1.5 in /usr/local/lib/python3.10/dist-packages (from python-dateutil>=2.8.2->pandas->llama-index-core<0.11.0,>=0.10.37.post1->llama-index-readers-file) (1.16.0)\n"
          ]
        }
      ],
      "source": [
        "!pip install python-dotenv==1.0.0\n",
        "!pip install llama-index==0.10.27\n",
        "!pip install llama-index-readers-file"
      ]
    },
    {
      "cell_type": "code",
      "source": [
        "import nest_asyncio\n",
        "nest_asyncio.apply()"
      ],
      "metadata": {
        "id": "OgL-Ra4mb5t7"
      },
      "execution_count": 2,
      "outputs": []
    },
    {
      "cell_type": "code",
      "source": [
        "import os\n",
        "from google.colab import userdata\n",
        "os.environ['OPENAI_API_KEY'] = userdata.get('OPENAI_API_KEY')"
      ],
      "metadata": {
        "id": "7DQnEanZQ6Wh"
      },
      "execution_count": 3,
      "outputs": []
    },
    {
      "cell_type": "code",
      "source": [
        "from llama_index.core import SimpleDirectoryReader, VectorStoreIndex, SummaryIndex\n",
        "from llama_index.core.node_parser import SentenceSplitter\n",
        "from llama_index.core.tools import FunctionTool, QueryEngineTool\n",
        "from llama_index.core.vector_stores import MetadataFilters, FilterCondition\n",
        "from llama_index.core import Settings\n",
        "from llama_index.llms.openai import OpenAI\n",
        "from llama_index.embeddings.openai import OpenAIEmbedding\n",
        "from typing import List, Optional\n",
        "import numpy as np"
      ],
      "metadata": {
        "id": "aP2e8b_dqAza"
      },
      "execution_count": 4,
      "outputs": []
    },
    {
      "cell_type": "markdown",
      "source": [
        "### Chunking"
      ],
      "metadata": {
        "id": "26JaNlSeqEfb"
      }
    },
    {
      "cell_type": "code",
      "source": [
        "# load documents\n",
        "documents = SimpleDirectoryReader(input_files=[\n",
        "    \"CrowdStrike_FY2023_Q1.pdf\",\n",
        "    \"CrowdStrike_FY2023_Q2.pdf\",\n",
        "    \"CrowdStrike_FY2023_Q3.pdf\"\n",
        "]).load_data()\n",
        "\n",
        "splitter = SentenceSplitter(chunk_size=1024)\n",
        "nodes = splitter.get_nodes_from_documents(documents)\n",
        "\n",
        "    # Check if nodes are created successfully\n",
        "if nodes:\n",
        "        print(\"Nodes created successfully.\")\n",
        "        print(f\"Total nodes created: {len(nodes)}\")\n",
        "\n",
        "        # Print some nodes for debugging\n",
        "        print(\"Printing first 5 nodes:\")\n",
        "        for i, node in enumerate(nodes[:5]):\n",
        "            print(f\"Node {i+1}: {node}\")\n",
        "else:\n",
        "        print(\"Failed to create nodes.\")"
      ],
      "metadata": {
        "colab": {
          "base_uri": "https://localhost:8080/"
        },
        "id": "qLGaCP0HqMom",
        "outputId": "230b0e4d-acc1-4dc8-e66e-b152d0e9d8dd"
      },
      "execution_count": 6,
      "outputs": [
        {
          "output_type": "stream",
          "name": "stdout",
          "text": [
            "Nodes created successfully.\n",
            "Total nodes created: 48\n",
            "Printing first 5 nodes:\n",
            "Node 1: Node ID: e79a2566-6196-40f7-9d03-cf453605ff9e\n",
            "Text: CRWD earnings call for the period ending April 30, 2022\n",
            "CrowdStrike Holdings, Inc. (CRWD -1.01%) Q1 2023 Earnings Call Jun 02,\n",
            "2022, 5:00 p.m. ET Contents: Prepared Remarks Questions and Answers\n",
            "Call Participants Prepared Remarks: Operator Hello. Thank you for\n",
            "standing by, and welcome to the CrowdStrike fiscal first  quarter 2023\n",
            "results confere...\n",
            "Node 2: Node ID: 53ac8cb8-4a84-4eb6-b882-9cc4f1099b42\n",
            "Text: Thank you, Maria, and thank you, all, for joining us. I will\n",
            "start today's call  by summarizing three key points. First, fiscal\n",
            "2023 is off to a fantastic start. We believe our Q1 results exemplify\n",
            "that we have a winning formula that includes scale, growth,\n",
            "profitability, and free cash flow. Second, we saw strength across the\n",
            "platform, including...\n",
            "Node 3: Node ID: f60fee01-e9c2-40e5-8cea-1568a2a08393\n",
            "Text: adoption metrics quarter after quarter. In Q1, subscription\n",
            "customers with four  or more, five or more, and six or more modules\n",
            "increased to 71%, 59%, and 35%,  respectively. Given subscription\n",
            "customers with four or more modules surpassed the 70%  milestone and\n",
            "is now commonplace, we are retiring this disclosure and raising  the\n",
            "bar by introduc...\n",
            "Node 4: Node ID: 411f1d41-54ef-4e75-86c4-2f64c2b01844\n",
            "Text: changer in the fight against ransomware and preventing lateral\n",
            "movement. This  was demonstrated in the recent MITRE prevention\n",
            "evaluation in which Falcon  achieved 100% prevention and our Identity\n",
            "Protection module stopped the would-be attacker before it could even\n",
            "gain access to the target environment, redefining  what it means to\n",
            "stop the brea...\n",
            "Node 5: Node ID: a3e046a0-f22b-4b8c-8e3c-12b389d77294\n",
            "Text: Before I hand it over to Burt, I will share one more recent new\n",
            "subscription  customer win where the incumbent vendor fell short of\n",
            "expectations. This global  business process service provider based in\n",
            "Europe was struggling with their  Microsoft deployment as complexity\n",
            "and misconfiguration pitfalls were hampering  their efforts to protect\n",
            "their...\n"
          ]
        }
      ]
    },
    {
      "cell_type": "markdown",
      "source": [
        "### Creating Vector Embeddings"
      ],
      "metadata": {
        "id": "twQIpWmIqRio"
      }
    },
    {
      "cell_type": "code",
      "source": [
        " print(\"starting vector indexing by creating embeddings using ada 002\")\n",
        "\n",
        " vector_index = VectorStoreIndex(nodes)\n",
        "\n",
        " print(\"finished vector indexing\")"
      ],
      "metadata": {
        "colab": {
          "base_uri": "https://localhost:8080/"
        },
        "id": "L_gWc7GIqUw7",
        "outputId": "2a1e623b-d6b2-453e-9e55-5d9c0ca193f8"
      },
      "execution_count": 7,
      "outputs": [
        {
          "output_type": "stream",
          "name": "stdout",
          "text": [
            "starting vector indexing by creating embeddings using ada 002\n",
            "finished vector indexing\n"
          ]
        }
      ]
    },
    {
      "cell_type": "markdown",
      "source": [
        "### Storing Vector Embeddings"
      ],
      "metadata": {
        "id": "3Ul3mCz0qqSn"
      }
    },
    {
      "cell_type": "code",
      "source": [
        "vector_index.storage_context.persist()"
      ],
      "metadata": {
        "id": "QthRy43Vqukz"
      },
      "execution_count": 8,
      "outputs": []
    },
    {
      "cell_type": "markdown",
      "source": [
        "### Access Vector Embeddings From Storage"
      ],
      "metadata": {
        "id": "aeWMBObkq2Hp"
      }
    },
    {
      "cell_type": "code",
      "source": [
        "from llama_index.core import StorageContext, load_index_from_storage\n",
        "\n",
        "storage_context = StorageContext.from_defaults(persist_dir=\"./storage\")\n",
        "vector_index = load_index_from_storage(storage_context=storage_context)"
      ],
      "metadata": {
        "id": "y9GGj-maq8FH"
      },
      "execution_count": 9,
      "outputs": []
    },
    {
      "cell_type": "markdown",
      "source": [
        "### Function for creating Tools"
      ],
      "metadata": {
        "id": "OKONlIP8fQE6"
      }
    },
    {
      "cell_type": "code",
      "source": [
        "def get_doc_tools(\n",
        "    file_path: str,\n",
        "    name: str,\n",
        ") -> str:\n",
        "    \"\"\"Get vector query and summary query tools from a document.\"\"\"\n",
        "\n",
        "\n",
        "    def vector_query(\n",
        "        query: str,\n",
        "        page_numbers: Optional[List[str]] = None\n",
        "    ) -> str:\n",
        "        \"\"\"Use to answer questions over a given paper.\n",
        "\n",
        "        Useful if you have specific questions over the paper.\n",
        "        Always leave page_numbers as None UNLESS there is a specific page you want to search for.\n",
        "\n",
        "        Args:\n",
        "            query (str): the string query to be embedded.\n",
        "            page_numbers (Optional[List[str]]): Filter by set of pages. Leave as NONE\n",
        "                if we want to perform a vector search\n",
        "                over all pages. Otherwise, filter by the set of specified pages.\n",
        "\n",
        "        \"\"\"\n",
        "\n",
        "        page_numbers = page_numbers or []\n",
        "        metadata_dicts = [\n",
        "            {\"key\": \"page_label\", \"value\": p} for p in page_numbers\n",
        "        ]\n",
        "\n",
        "        query_engine = vector_index.as_query_engine(\n",
        "            similarity_top_k=2,\n",
        "            filters=MetadataFilters.from_dicts(\n",
        "                metadata_dicts,\n",
        "                condition=FilterCondition.OR\n",
        "            )\n",
        "        )\n",
        "        response = query_engine.query(query)\n",
        "        return response\n",
        "\n",
        "\n",
        "    vector_query_tool = FunctionTool.from_defaults(\n",
        "        name=f\"vector_tool_{name}\",\n",
        "        fn=vector_query\n",
        "    )\n",
        "\n",
        "    summary_index = SummaryIndex(nodes)\n",
        "\n",
        "    summary_query_engine = summary_index.as_query_engine(\n",
        "        response_mode=\"tree_summarize\",\n",
        "        use_async=True,\n",
        "    )\n",
        "    summary_tool = QueryEngineTool.from_defaults(\n",
        "        name=f\"summary_tool_{name}\",\n",
        "        query_engine=summary_query_engine,\n",
        "        description=(\n",
        "            f\"Useful for summarization questions related to {name}\"\n",
        "        ),\n",
        "    )\n",
        "\n",
        "    return vector_query_tool, summary_tool"
      ],
      "metadata": {
        "id": "CLp1yb8ffPmR"
      },
      "execution_count": 10,
      "outputs": []
    },
    {
      "cell_type": "markdown",
      "source": [
        "### Calling the function for creating tools"
      ],
      "metadata": {
        "id": "7toDhL0Lxyoe"
      }
    },
    {
      "cell_type": "code",
      "source": [
        "papers = [\n",
        "    \"CrowdStrike_FY2023_Q1.pdf\",\n",
        "    \"CrowdStrike_FY2023_Q2.pdf\",\n",
        "    \"CrowdStrike_FY2023_Q3.pdf\"\n",
        "]\n",
        "\n",
        "paper_to_tools_dict = {}\n",
        "for paper in papers:\n",
        "    print(f\"Getting tools for paper: {paper}\")\n",
        "    vector_tool, summary_tool = get_doc_tools(paper, paper.replace(\".pdf\", \"\"))\n",
        "    paper_to_tools_dict[paper] = [vector_tool, summary_tool]\n"
      ],
      "metadata": {
        "colab": {
          "base_uri": "https://localhost:8080/"
        },
        "id": "fqmf1hcaHajt",
        "outputId": "62395f08-64fe-4a0b-f41d-149330a9b066"
      },
      "execution_count": 11,
      "outputs": [
        {
          "output_type": "stream",
          "name": "stdout",
          "text": [
            "Getting tools for paper: CrowdStrike_FY2023_Q1.pdf\n",
            "Getting tools for paper: CrowdStrike_FY2023_Q2.pdf\n",
            "Getting tools for paper: CrowdStrike_FY2023_Q3.pdf\n"
          ]
        }
      ]
    },
    {
      "cell_type": "code",
      "source": [
        "initial_tools = [t for paper in papers for t in paper_to_tools_dict[paper]]"
      ],
      "metadata": {
        "id": "M2GPW4O0zuH5"
      },
      "execution_count": 12,
      "outputs": []
    },
    {
      "cell_type": "code",
      "source": [
        "print(initial_tools)"
      ],
      "metadata": {
        "colab": {
          "base_uri": "https://localhost:8080/"
        },
        "id": "Sc09hkAWUxGd",
        "outputId": "435a70a4-8db8-4832-9fad-ba607df1ec37"
      },
      "execution_count": 8,
      "outputs": [
        {
          "output_type": "stream",
          "name": "stdout",
          "text": [
            "[<llama_index.core.tools.function_tool.FunctionTool object at 0x79bd44cd1150>, <llama_index.core.tools.query_engine.QueryEngineTool object at 0x79bd44cd24d0>, <llama_index.core.tools.function_tool.FunctionTool object at 0x79bd44c11360>, <llama_index.core.tools.query_engine.QueryEngineTool object at 0x79bd44c12b00>, <llama_index.core.tools.function_tool.FunctionTool object at 0x79bd434e1090>, <llama_index.core.tools.query_engine.QueryEngineTool object at 0x79bd434e2ec0>]\n"
          ]
        }
      ]
    },
    {
      "source": [
        "from llama_index.llms.openai import OpenAI\n",
        "llm = OpenAI(model=\"gpt-3.5-turbo\")"
      ],
      "cell_type": "code",
      "metadata": {
        "id": "7--ekoKo3XDw"
      },
      "execution_count": 13,
      "outputs": []
    },
    {
      "cell_type": "code",
      "source": [
        "len(initial_tools)"
      ],
      "metadata": {
        "colab": {
          "base_uri": "https://localhost:8080/"
        },
        "id": "nfABekwBV3Yq",
        "outputId": "c4f0de01-acc7-41c9-f3b2-3082a055c5fd"
      },
      "execution_count": 14,
      "outputs": [
        {
          "output_type": "execute_result",
          "data": {
            "text/plain": [
              "6"
            ]
          },
          "metadata": {},
          "execution_count": 14
        }
      ]
    },
    {
      "cell_type": "code",
      "source": [
        "from llama_index.core.agent import FunctionCallingAgentWorker\n",
        "from llama_index.core.agent import AgentRunner\n",
        "\n",
        "agent_worker = FunctionCallingAgentWorker.from_tools(\n",
        "    initial_tools,\n",
        "    llm=llm,\n",
        "    verbose=True\n",
        ")\n",
        "agent = AgentRunner(agent_worker)"
      ],
      "metadata": {
        "id": "Q9sOLBBS3qPR"
      },
      "execution_count": 15,
      "outputs": []
    },
    {
      "cell_type": "markdown",
      "source": [
        "### QnA"
      ],
      "metadata": {
        "id": "dPjf9nqIrY6O"
      }
    },
    {
      "cell_type": "code",
      "source": [
        "response = agent.query(\n",
        "    \"Tell me about the financial status of the company\"\n",
        ")"
      ],
      "metadata": {
        "id": "b3nCgF-e3q58",
        "colab": {
          "base_uri": "https://localhost:8080/"
        },
        "outputId": "72ec10bd-aa3e-4444-8c30-102579e16f2b"
      },
      "execution_count": 16,
      "outputs": [
        {
          "output_type": "stream",
          "name": "stdout",
          "text": [
            "Added user message to memory: Tell me about the financial status of the company\n",
            "=== Calling Function ===\n",
            "Calling function: vector_tool_CrowdStrike_FY2023_Q1 with args: {\"query\": \"financial status\"}\n",
            "=== Function Output ===\n",
            "CrowdStrike reported strong financial results for the third quarter of fiscal year 2023. The company achieved significant growth in ending ARR, net new ARR, total revenue, and subscription revenue. Additionally, CrowdStrike demonstrated strong performance in terms of gross margins, operating expenses, operating income, and net income. The company also highlighted its focus on maintaining a balance between growth and profitability, as well as its commitment to generating free cash flow.\n",
            "=== Calling Function ===\n",
            "Calling function: vector_tool_CrowdStrike_FY2023_Q2 with args: {\"query\": \"financial status\"}\n",
            "=== Function Output ===\n",
            "The company reported strong financial results in the third quarter of fiscal year 2023. Total revenue grew by 53% year over year to reach $580.9 million, with subscription revenue increasing by 53% to $547.4 million. Non-GAAP operating income grew by 77% year over year to reach a record $89.7 million, and operating margin improved by 2 percentage points to reach 15%. The company also saw significant growth in cash flow from operations, which increased by 53% year over year to a record $242.9 million, and free cash flow grew by 41% year over year to a record $174.1 million. Additionally, the company ended the quarter with a strong balance sheet, with cash and cash equivalents increasing to approximately $2.47 billion.\n",
            "=== Calling Function ===\n",
            "Calling function: vector_tool_CrowdStrike_FY2023_Q3 with args: {\"query\": \"financial status\"}\n",
            "=== Function Output ===\n",
            "CrowdStrike reported strong financial results in the third quarter of fiscal year 2023. Total revenue grew by 53% year over year to reach $580.9 million, with subscription revenue increasing by 53% to $547.4 million. The company also achieved a record non-GAAP operating income of $89.7 million, representing a 77% year-over-year growth. Additionally, CrowdStrike's cash and cash equivalents increased to approximately $2.47 billion, with cash flow from operations growing by 53% year over year to a record $242.9 million. Free cash flow also saw a significant increase of 41% year over year to reach a record $174.1 million.\n",
            "=== LLM Response ===\n",
            "The company, CrowdStrike, reported strong financial results in the third quarter of fiscal year 2023. Here are some key points about their financial status:\n",
            "\n",
            "1. CrowdStrike achieved significant growth in ending ARR, net new ARR, total revenue, and subscription revenue.\n",
            "2. The company demonstrated strong performance in terms of gross margins, operating expenses, operating income, and net income.\n",
            "3. CrowdStrike highlighted its focus on maintaining a balance between growth and profitability, as well as its commitment to generating free cash flow.\n",
            "4. Total revenue grew by 53% year over year to reach $580.9 million, with subscription revenue increasing by 53% to $547.4 million.\n",
            "5. Non-GAAP operating income grew by 77% year over year to reach a record $89.7 million, and operating margin improved by 2 percentage points to reach 15%.\n",
            "6. Cash flow from operations increased by 53% year over year to a record $242.9 million, and free cash flow grew by 41% year over year to a record $174.1 million.\n",
            "7. The company ended the quarter with a strong balance sheet, with cash and cash equivalents increasing to approximately $2.47 billion.\n",
            "\n",
            "Overall, CrowdStrike's financial status in the third quarter of fiscal year 2023 reflects strong growth and performance in key financial metrics.\n"
          ]
        }
      ]
    },
    {
      "cell_type": "code",
      "source": [
        "response = agent.query(\"recipe to make a coffee\")"
      ],
      "metadata": {
        "id": "hRhEGAHk3uTO",
        "colab": {
          "base_uri": "https://localhost:8080/"
        },
        "outputId": "ce1167eb-f7a9-452c-e225-dd5179f8b52d"
      },
      "execution_count": 18,
      "outputs": [
        {
          "output_type": "stream",
          "name": "stdout",
          "text": [
            "Added user message to memory: recipe to make a coffee\n",
            "=== Calling Function ===\n",
            "Calling function: vector_tool_CrowdStrike_FY2023_Q1 with args: {\"query\": \"recipe to make a coffee\"}\n",
            "=== Function Output ===\n",
            "Efficiency in sales and customer acquisition is key to success in the market. By leveraging an e-commerce platform with a high magic number, companies can streamline the process of gaining new customers and cross-selling to existing ones. Prioritizing customer needs and offering a seamless buying experience can set a company apart from its competition. Additionally, focusing on providing value and addressing critical issues like ransomware can lead to upselling opportunities and increased deal sizes. Leveraging technology and a strong sales team can drive efficiency and growth in the organization.\n",
            "=== LLM Response ===\n",
            "I couldn't find a specific recipe for making coffee in the document. However, the document emphasizes the importance of efficiency in sales and customer acquisition for success in the market. It suggests leveraging an e-commerce platform with a high magic number to streamline the process of gaining new customers and cross-selling to existing ones. Prioritizing customer needs, offering a seamless buying experience, providing value, and addressing critical issues like ransomware can lead to upselling opportunities and increased deal sizes. Leveraging technology and a strong sales team are also highlighted as drivers of efficiency and growth in the organization.\n"
          ]
        }
      ]
    },
    {
      "cell_type": "code",
      "source": [
        "response = agent.query(\"Who is the CFO of the company\")"
      ],
      "metadata": {
        "colab": {
          "base_uri": "https://localhost:8080/"
        },
        "id": "49DTglMiZ9tQ",
        "outputId": "6b40608d-7556-4da2-9cab-39d484e6c6b1"
      },
      "execution_count": 50,
      "outputs": [
        {
          "output_type": "stream",
          "name": "stdout",
          "text": [
            "Added user message to memory: Who is the CFO of the company\n",
            "=== Calling Function ===\n",
            "Calling function: vector_tool_CrowdStrike_FY2023_Q1 with args: {\"query\": \"CFO\"}\n",
            "=== Function Output ===\n",
            "Burt Podbere\n",
            "=== LLM Response ===\n",
            "The CFO of the company is Burt Podbere.\n"
          ]
        }
      ]
    },
    {
      "cell_type": "code",
      "source": [
        "response = agent.query(\"How was the performance of the company\")"
      ],
      "metadata": {
        "colab": {
          "base_uri": "https://localhost:8080/"
        },
        "id": "W3qFWoy8bmoS",
        "outputId": "36efa4d3-4520-4d5d-dba2-96bb5f1e497c"
      },
      "execution_count": 49,
      "outputs": [
        {
          "output_type": "stream",
          "name": "stdout",
          "text": [
            "Added user message to memory: How was the performance of the company\n",
            "=== Calling Function ===\n",
            "Calling function: summary_tool_CrowdStrike_FY2023_Q1 with args: {\"input\": \"performance of the company\"}\n",
            "=== Function Output ===\n",
            "The company had a strong performance in the fiscal first quarter of 2023, with notable achievements including a record net new ARR of $190 million, ending ARR growth of 61% year over year exceeding $1.9 billion, record non-GAAP operating profit of $83 million, and a free cash flow margin of 32%. The company demonstrated growth, profitability, and cash flow well above industry benchmarks, reflecting a powerful combination of factors contributing to sustained success. Additionally, the company saw strength across its platform, with a significant number of customers adopting multiple modules, showcasing the wide competitive moat and long-term growth potential of the company.\n",
            "=== LLM Response ===\n",
            "The company had a strong performance in the fiscal first quarter of 2023, with notable achievements including a record net new ARR of $190 million, ending ARR growth of 61% year over year exceeding $1.9 billion, record non-GAAP operating profit of $83 million, and a free cash flow margin of 32%. The company demonstrated growth, profitability, and cash flow well above industry benchmarks, reflecting a powerful combination of factors contributing to sustained success. Additionally, the company saw strength across its platform, with a significant number of customers adopting multiple modules, showcasing the wide competitive moat and long-term growth potential of the company.\n"
          ]
        }
      ]
    },
    {
      "cell_type": "code",
      "source": [
        "response = agent.query(\"How does the company performed in quarter 3 compared to quarter 1\")"
      ],
      "metadata": {
        "colab": {
          "base_uri": "https://localhost:8080/"
        },
        "outputId": "c77cc706-df63-4218-a326-4def1e39bd4c",
        "id": "ov1Bfx9TuIKO"
      },
      "execution_count": 12,
      "outputs": [
        {
          "output_type": "stream",
          "name": "stdout",
          "text": [
            "Added user message to memory: How does the company performed in quarter 3 compared to quarter 1\n",
            "=== Calling Function ===\n",
            "Calling function: summary_tool_CrowdStrike_FY2023_Q1 with args: {\"input\": \"performance in quarter 1\"}\n",
            "=== Function Output ===\n",
            "The performance in quarter 1 was marked by strong achievements, including exceeding expectations in net new ARR, achieving a significant year-over-year growth in Ending ARR, recording a record non-GAAP operating profit, and maintaining a healthy free cash flow margin. Despite facing macroeconomic headwinds that led to delays in purchasing decisions from smaller non-enterprise accounts, the company demonstrated resilience by continuing to prioritize investments from larger enterprise customers. The company's ability to maintain strong competitive win rates and consistent average selling prices showcases its confidence in its long-term market position and the cybersecurity market's resiliency.\n",
            "=== Calling Function ===\n",
            "Calling function: summary_tool_CrowdStrike_FY2023_Q3 with args: {\"input\": \"performance in quarter 3\"}\n",
            "=== Function Output ===\n",
            "The performance in quarter 3 was strong, with CrowdStrike delivering record net new ARR of $218 million, accelerating growth to 45% year-over-year. Ending ARR grew to $2.14 billion on a 59% year-over-year growth rate. The company added over 1,700 net new customers, reaching a total of 19,686 reported customers. Gross retention reached a new record for the second consecutive quarter, and dollar-based net retention also reached its highest level in seven quarters. Additionally, quarterly revenue exceeded $500 million for the first time. The company achieved record non-GAAP operating profit of $87 million, a 147% increase over the previous year, and grew free cash flow by 84%. Overall, the performance in quarter 3 demonstrated strong momentum and continued success for CrowdStrike.\n",
            "=== LLM Response ===\n",
            "The company's performance in quarter 3 was strong compared to quarter 1. In quarter 1, the company demonstrated resilience in the face of macroeconomic headwinds and prioritized investments from larger enterprise customers. Despite delays in purchasing decisions from smaller non-enterprise accounts, the company maintained strong competitive win rates and consistent average selling prices.\n",
            "\n",
            "In quarter 3, CrowdStrike delivered record net new ARR of $218 million, with a 45% year-over-year growth rate. Ending ARR grew to $2.14 billion on a 59% year-over-year growth rate. The company added over 1,700 net new customers, reaching a total of 19,686 reported customers. Gross retention reached a new record, and dollar-based net retention also reached its highest level in seven quarters. Additionally, quarterly revenue exceeded $500 million for the first time. The company achieved a record non-GAAP operating profit of $87 million, a 147% increase over the previous year, and grew free cash flow by 84%. Overall, the performance in quarter 3 demonstrated strong momentum and continued success for CrowdStrike.\n"
          ]
        }
      ]
    },
    {
      "cell_type": "code",
      "source": [
        "response = agent.query(\"How does the company performed in quarter 3 compared to quarter 1\")\n",
        "print(str(response))"
      ],
      "metadata": {
        "colab": {
          "base_uri": "https://localhost:8080/"
        },
        "id": "F01IVjoLudYX",
        "outputId": "5da1fdb3-e45d-4a51-b155-3492f9fcad42"
      },
      "execution_count": 14,
      "outputs": [
        {
          "output_type": "stream",
          "name": "stdout",
          "text": [
            "Added user message to memory: How does the company performed in quarter 3 compared to quarter 1\n",
            "=== Calling Function ===\n",
            "Calling function: vector_tool_CrowdStrike_FY2023_Q1 with args: {\"query\": \"financial performance\"}\n",
            "=== Function Output ===\n",
            "The company reported strong financial performance in the third quarter of fiscal year 2023. Total revenue grew by 53% over the same quarter last year, reaching $580.9 million. Subscription revenue also saw significant growth, increasing by 53% to reach $547.4 million. Non-GAAP operating income grew by 77% year over year to reach a record $89.7 million, with an operating margin improvement of 2 percentage points to reach 15%. Additionally, non-GAAP net income attributable to the company more than doubled over the prior year, growing to a record $96.1 million. Cash flow from operations and free cash flow also experienced substantial growth, increasing by 53% and 41% year over year, respectively.\n",
            "=== Calling Function ===\n",
            "Calling function: vector_tool_CrowdStrike_FY2023_Q3 with args: {\"query\": \"financial performance\"}\n",
            "=== Function Output ===\n",
            "The company reported strong financial performance in the third quarter of fiscal year 2023. Total revenue grew by 53% year over year to reach $580.9 million, with subscription revenue growing by 53% to $547.4 million. Non-GAAP operating income increased by 77% year over year to $89.7 million, and non-GAAP net income attributable to CrowdStrike more than doubled to $96.1 million. Cash flow from operations and free cash flow also saw significant growth, with cash and cash equivalents increasing to approximately $2.47 billion.\n",
            "=== LLM Response ===\n",
            "The company reported strong financial performance in both quarter 1 and quarter 3 of fiscal year 2023. In quarter 3, total revenue grew by 53% year over year to reach $580.9 million, with subscription revenue increasing by 53% to $547.4 million. Non-GAAP operating income also saw significant growth, reaching $89.7 million, a 77% increase over the prior year. Non-GAAP net income attributable to the company more than doubled to $96.1 million. Cash flow from operations and free cash flow also experienced substantial growth in quarter 3.\n",
            "\n",
            "Overall, the company performed well in both quarters, with strong revenue growth, increased operating income, and improved cash flow metrics.\n",
            "The company reported strong financial performance in both quarter 1 and quarter 3 of fiscal year 2023. In quarter 3, total revenue grew by 53% year over year to reach $580.9 million, with subscription revenue increasing by 53% to $547.4 million. Non-GAAP operating income also saw significant growth, reaching $89.7 million, a 77% increase over the prior year. Non-GAAP net income attributable to the company more than doubled to $96.1 million. Cash flow from operations and free cash flow also experienced substantial growth in quarter 3.\n",
            "\n",
            "Overall, the company performed well in both quarters, with strong revenue growth, increased operating income, and improved cash flow metrics.\n"
          ]
        }
      ]
    },
    {
      "cell_type": "code",
      "source": [
        "response = agent.query(\"Who are the analyst who joined the call\")"
      ],
      "metadata": {
        "colab": {
          "base_uri": "https://localhost:8080/"
        },
        "id": "udG_5mNRwnLg",
        "outputId": "d61a8a31-6f14-4ce5-d659-16dbcc23d4e3"
      },
      "execution_count": 15,
      "outputs": [
        {
          "output_type": "stream",
          "name": "stdout",
          "text": [
            "Added user message to memory: Who are the analyst who joined the call\n",
            "=== Calling Function ===\n",
            "Calling function: vector_tool_CrowdStrike_FY2023_Q1 with args: {\"query\": \"analyst joined the call\"}\n",
            "=== Function Output ===\n",
            "Joe Gallo from Jefferies, Saket Kalia from Barclays, and several other analysts joined the call.\n",
            "=== Calling Function ===\n",
            "Calling function: vector_tool_CrowdStrike_FY2023_Q2 with args: {\"query\": \"analyst joined the call\"}\n",
            "=== Function Output ===\n",
            "Joe Gallo from Jefferies, Saket Kalia from Barclays, and several other analysts joined the call.\n",
            "=== Calling Function ===\n",
            "Calling function: vector_tool_CrowdStrike_FY2023_Q3 with args: {\"query\": \"analyst joined the call\"}\n",
            "=== Function Output ===\n",
            "Joe Gallo from Jefferies, Andrew Nowinski from Well Fargo Securities, Brian Essex from Goldman Sachs, Joel Fishbein from Truist Securities, Matt Hedberg from RBC Capital Markets, Rob Owens from Piper Sandler, Alex Henderson from Needham and Company, Roger Boyd from UBS, Daniel Park from Canaccord Genuity, Shaul Eyal from Cowen and Company, Fatima Boolani from Citi, Brad Reback from Stifel Financial Corp., and Janet Zhang from BTIG.\n",
            "=== LLM Response ===\n",
            "Analysts who joined the call include Joe Gallo from Jefferies, Saket Kalia from Barclays, Andrew Nowinski from Well Fargo Securities, Brian Essex from Goldman Sachs, Joel Fishbein from Truist Securities, Matt Hedberg from RBC Capital Markets, Rob Owens from Piper Sandler, Alex Henderson from Needham and Company, Roger Boyd from UBS, Daniel Park from Canaccord Genuity, Shaul Eyal from Cowen and Company, Fatima Boolani from Citi, Brad Reback from Stifel Financial Corp., and Janet Zhang from BTIG.\n"
          ]
        }
      ]
    },
    {
      "cell_type": "code",
      "source": [
        "response = agent.query(\"Who are the analyst who joined the call adn list out the analysts who joined the call across the 3 quarters\")"
      ],
      "metadata": {
        "colab": {
          "base_uri": "https://localhost:8080/"
        },
        "id": "_qD_TK2Swxic",
        "outputId": "0fea3961-eebb-407c-fc1f-b4307ad60e12"
      },
      "execution_count": 16,
      "outputs": [
        {
          "output_type": "stream",
          "name": "stdout",
          "text": [
            "Added user message to memory: Who are the analyst who joined the call adn list out the analysts who joined the call across the 3 quarters\n",
            "=== Calling Function ===\n",
            "Calling function: vector_tool_CrowdStrike_FY2023_Q1 with args: {\"query\": \"list of analysts who joined the call\"}\n",
            "=== Function Output ===\n",
            "Andrew Nowinski, Brian Essex, Joel Fishbein, Matt Hedberg, Rob Owens, Alex Henderson, Roger Boyd, Daniel Park, Joseph Gallo, Shaul Eyal, Fatima Boolani, Brad Reback, Janet Zhang, Sterling Auty, Hamza Fodderwala, Tal Liani, John DiFucci, Brad Zelnick, Joe Gallo\n",
            "=== Calling Function ===\n",
            "Calling function: vector_tool_CrowdStrike_FY2023_Q2 with args: {\"query\": \"list of analysts who joined the call\"}\n",
            "=== Function Output ===\n",
            "Andrew Nowinski, Brian Essex, Joel Fishbein, Matt Hedberg, Rob Owens, Alex Henderson, Roger Boyd, Daniel Park, Joseph Gallo, Shaul Eyal, Fatima Boolani, Brad Reback, Janet Zhang, Sterling Auty, Hamza Fodderwala, Tal Liani, John DiFucci, Brad Zelnick, Joe Gallo\n",
            "=== Calling Function ===\n",
            "Calling function: vector_tool_CrowdStrike_FY2023_Q3 with args: {\"query\": \"list of analysts who joined the call\"}\n",
            "=== Function Output ===\n",
            "Andrew Nowinski, Brian Essex, Joel Fishbein, Matt Hedberg, Rob Owens, Alex Henderson, Roger Boyd, Daniel Park, Joseph Gallo, Shaul Eyal, Fatima Boolani, Brad Reback, Janet Zhang, Sterling Auty, Hamza Fodderwala, Tal Liani, John DiFucci, Brad Zelnick, Joe Gallo\n",
            "=== LLM Response ===\n",
            "The analysts who joined the call across the three quarters are:\n",
            "- Andrew Nowinski\n",
            "- Brian Essex\n",
            "- Joel Fishbein\n",
            "- Matt Hedberg\n",
            "- Rob Owens\n",
            "- Alex Henderson\n",
            "- Roger Boyd\n",
            "- Daniel Park\n",
            "- Joseph Gallo\n",
            "- Shaul Eyal\n",
            "- Fatima Boolani\n",
            "- Brad Reback\n",
            "- Janet Zhang\n",
            "- Sterling Auty\n",
            "- Hamza Fodderwala\n",
            "- Tal Liani\n",
            "- John DiFucci\n",
            "- Brad Zelnick\n",
            "- Joe Gallo\n"
          ]
        }
      ]
    },
    {
      "cell_type": "code",
      "source": [
        "response = agent.query(\"How are the focus areas for the company changed from quarter 1 to quarter 3\")"
      ],
      "metadata": {
        "colab": {
          "base_uri": "https://localhost:8080/"
        },
        "id": "gv0W_duqxfNF",
        "outputId": "f25493c1-313b-41df-d7c2-db54fabe0765"
      },
      "execution_count": 17,
      "outputs": [
        {
          "output_type": "stream",
          "name": "stdout",
          "text": [
            "Added user message to memory: How are the focus areas for the company changed from quarter 1 to quarter 3\n",
            "=== Calling Function ===\n",
            "Calling function: vector_tool_CrowdStrike_FY2023_Q1 with args: {\"query\": \"focus areas\"}\n",
            "=== Function Output ===\n",
            "Complete, Spotlight, Identity Threat Detection\n",
            "=== Calling Function ===\n",
            "Calling function: vector_tool_CrowdStrike_FY2023_Q3 with args: {\"query\": \"focus areas\"}\n",
            "=== Function Output ===\n",
            "Complete, Spotlight, Identity Threat Detection\n",
            "=== LLM Response ===\n",
            "The focus areas for the company remained the same from quarter 1 to quarter 3. The focus areas are \"Complete, Spotlight, Identity Threat Detection.\"\n"
          ]
        }
      ]
    },
    {
      "cell_type": "code",
      "source": [
        "response = agent.query(\"What are the steps that imporved the performance of the company in quarter 2 if we compare it with quarter 1. What were the the result of those steps\")"
      ],
      "metadata": {
        "colab": {
          "base_uri": "https://localhost:8080/"
        },
        "id": "dhYK3U3v1HdO",
        "outputId": "93f5c1a7-830a-46fa-9751-66475fcc4020"
      },
      "execution_count": 18,
      "outputs": [
        {
          "output_type": "stream",
          "name": "stdout",
          "text": [
            "Added user message to memory: What are the steps that imporved the performance of the company in quarter 2 if we compare it with quarter 1. What were the the result of those steps\n",
            "=== Calling Function ===\n",
            "Calling function: vector_tool_CrowdStrike_FY2023_Q1 with args: {\"query\": \"steps that improved the performance of the company\"}\n",
            "=== Function Output ===\n",
            "Investing in the e-commerce platform, increasing the number of trials available, prioritizing customer needs, leveraging the trial program to drive sales efficiency, upselling modules through the e-commerce platform, and focusing on go-to-market execution are steps that have improved the performance of the company.\n",
            "=== Calling Function ===\n",
            "Calling function: vector_tool_CrowdStrike_FY2023_Q2 with args: {\"query\": \"steps that improved the performance of the company\"}\n",
            "=== Function Output ===\n",
            "Investing in the e-commerce platform, increasing the number of trials available, prioritizing customer needs, leveraging the trial program to drive sales efficiency, upselling modules through the e-commerce platform, and focusing on go-to-market execution are steps that have improved the performance of the company.\n",
            "=== Calling Function ===\n",
            "Calling function: summary_tool_CrowdStrike_FY2023_Q1 with args: {\"input\": \"Investing in the e-commerce platform, increasing the number of trials available, prioritizing customer needs, leveraging the trial program to drive sales efficiency, upselling modules through the e-commerce platform, and focusing on go-to-market execution are steps that have improved the performance of the company.\"}\n",
            "=== Function Output ===\n",
            "The strategic initiatives of investing in the e-commerce platform, increasing the number of trials available, prioritizing customer needs, leveraging the trial program to drive sales efficiency, upselling modules through the e-commerce platform, and focusing on go-to-market execution have indeed positively impacted the company's performance. These actions have led to record net new ARR, accelerated growth, increased customer adoption, and a strong pipeline. The company's ability to efficiently reach and serve small businesses, drive module adoption, and provide a seamless platform for customers has been instrumental in driving success and growth.\n",
            "=== Calling Function ===\n",
            "Calling function: summary_tool_CrowdStrike_FY2023_Q2 with args: {\"input\": \"Investing in the e-commerce platform, increasing the number of trials available, prioritizing customer needs, leveraging the trial program to drive sales efficiency, upselling modules through the e-commerce platform, and focusing on go-to-market execution are steps that have improved the performance of the company.\"}\n",
            "=== Function Output ===\n",
            "The steps of investing in the e-commerce platform, increasing the number of trials available, prioritizing customer needs, leveraging the trial program to drive sales efficiency, upselling modules through the e-commerce platform, and focusing on go-to-market execution have indeed enhanced the company's performance. These initiatives have led to record net new ARR, accelerated growth, record customer additions, and strong financial results. The company's ability to efficiently reach and serve the small business community, drive module adoption, and expand its customer base through e-commerce and trial programs has been a key factor in its success. Additionally, the focus on go-to-market execution and delivering value to customers has resulted in high retention rates, increased module adoption, and larger deal sizes among both large and small customers.\n",
            "=== LLM Response ===\n",
            "The steps that improved the performance of the company in quarter 2, compared to quarter 1, include investing in the e-commerce platform, increasing the number of trials available, prioritizing customer needs, leveraging the trial program to drive sales efficiency, upselling modules through the e-commerce platform, and focusing on go-to-market execution. \n",
            "\n",
            "These actions have resulted in record net new ARR, accelerated growth, increased customer adoption, a strong pipeline, and enhanced financial results. The company's ability to efficiently reach and serve small businesses, drive module adoption, and provide a seamless platform for customers has been instrumental in driving success and growth. Additionally, the focus on go-to-market execution and delivering value to customers has led to high retention rates, increased module adoption, and larger deal sizes among both large and small customers.\n"
          ]
        }
      ]
    },
    {
      "cell_type": "code",
      "source": [
        "response = agent.query(\"Who are the analyst who joined the call adn list out the analysts who joined the call across the 3 quarters. list in tabular format\")"
      ],
      "metadata": {
        "colab": {
          "base_uri": "https://localhost:8080/"
        },
        "id": "etO_EG7UC7tP",
        "outputId": "7e7650c5-1600-4c49-d187-926d4bc1e8b8"
      },
      "execution_count": 19,
      "outputs": [
        {
          "output_type": "stream",
          "name": "stdout",
          "text": [
            "Added user message to memory: Who are the analyst who joined the call adn list out the analysts who joined the call across the 3 quarters. list in tabular format\n",
            "=== Calling Function ===\n",
            "Calling function: vector_tool_CrowdStrike_FY2023_Q1 with args: {\"query\": \"analysts who joined the call\"}\n",
            "=== Function Output ===\n",
            "Brian Essex, Daniel Park, Shaul Eyal, Joseph Gallo, Brad Reback, Janet Zhang, Sterling Auty, Hamza Fodderwala, Tal Liani, John DiFucci, Brad Zelnick\n",
            "=== Calling Function ===\n",
            "Calling function: vector_tool_CrowdStrike_FY2023_Q2 with args: {\"query\": \"analysts who joined the call\"}\n",
            "=== Function Output ===\n",
            "Andrew Nowinski, Brian Essex, Joel Fishbein, Matt Hedberg, Rob Owens, Alex Henderson, Roger Boyd, Daniel Park, Joseph Gallo, Shaul Eyal, Fatima Boolani, Brad Reback, Janet Zhang, Sterling Auty, Hamza Fodderwala, Tal Liani, John DiFucci, Brad Zelnick, Joe Gallo\n",
            "=== Calling Function ===\n",
            "Calling function: vector_tool_CrowdStrike_FY2023_Q3 with args: {\"query\": \"analysts who joined the call\"}\n",
            "=== Function Output ===\n",
            "Andrew Nowinski, Brian Essex, Joel Fishbein, Matt Hedberg, Rob Owens, Alex Henderson, Roger Boyd, Daniel Park, Joseph Gallo, Shaul Eyal, Fatima Boolani, Brad Reback, Janet Zhang, Sterling Auty, Hamza Fodderwala, Tal Liani, John DiFucci, Brad Zelnick\n",
            "=== LLM Response ===\n",
            "The analysts who joined the call across the 3 quarters are as follows:\n",
            "\n",
            "- **Quarter 1:**\n",
            "  - Brian Essex\n",
            "  - Daniel Park\n",
            "  - Shaul Eyal\n",
            "  - Joseph Gallo\n",
            "  - Brad Reback\n",
            "  - Janet Zhang\n",
            "  - Sterling Auty\n",
            "  - Hamza Fodderwala\n",
            "  - Tal Liani\n",
            "  - John DiFucci\n",
            "  - Brad Zelnick\n",
            "\n",
            "- **Quarter 2:**\n",
            "  - Andrew Nowinski\n",
            "  - Brian Essex\n",
            "  - Joel Fishbein\n",
            "  - Matt Hedberg\n",
            "  - Rob Owens\n",
            "  - Alex Henderson\n",
            "  - Roger Boyd\n",
            "  - Daniel Park\n",
            "  - Joseph Gallo\n",
            "  - Shaul Eyal\n",
            "  - Fatima Boolani\n",
            "  - Brad Reback\n",
            "  - Janet Zhang\n",
            "  - Sterling Auty\n",
            "  - Hamza Fodderwala\n",
            "  - Tal Liani\n",
            "  - John DiFucci\n",
            "  - Brad Zelnick\n",
            "  - Joe Gallo\n",
            "\n",
            "- **Quarter 3:**\n",
            "  - Andrew Nowinski\n",
            "  - Brian Essex\n",
            "  - Joel Fishbein\n",
            "  - Matt Hedberg\n",
            "  - Rob Owens\n",
            "  - Alex Henderson\n",
            "  - Roger Boyd\n",
            "  - Daniel Park\n",
            "  - Joseph Gallo\n",
            "  - Shaul Eyal\n",
            "  - Fatima Boolani\n",
            "  - Brad Reback\n",
            "  - Janet Zhang\n",
            "  - Sterling Auty\n",
            "  - Hamza Fodderwala\n",
            "  - Tal Liani\n",
            "  - John DiFucci\n",
            "  - Brad Zelnick\n"
          ]
        }
      ]
    }
  ]
}