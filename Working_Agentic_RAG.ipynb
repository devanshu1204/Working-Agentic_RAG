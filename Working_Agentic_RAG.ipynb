{
  "nbformat": 4,
  "nbformat_minor": 0,
  "metadata": {
    "colab": {
      "provenance": [],
      "authorship_tag": "ABX9TyMyvsWlkIcgoT4x6WIhpFCm",
      "include_colab_link": true
    },
    "kernelspec": {
      "name": "python3",
      "display_name": "Python 3"
    },
    "language_info": {
      "name": "python"
    }
  },
  "cells": [
    {
      "cell_type": "markdown",
      "metadata": {
        "id": "view-in-github",
        "colab_type": "text"
      },
      "source": [
        "<a href=\"https://colab.research.google.com/github/devanshu1204/Working-Agentic_RAG/blob/main/Working_Agentic_RAG.ipynb\" target=\"_parent\"><img src=\"https://colab.research.google.com/assets/colab-badge.svg\" alt=\"Open In Colab\"/></a>"
      ]
    },
    {
      "cell_type": "code",
      "execution_count": null,
      "metadata": {
        "id": "J7tBRwztW-xe"
      },
      "outputs": [],
      "source": [
        "!pip install python-dotenv==1.0.0\n",
        "!pip install llama-index==0.10.27\n",
        "!pip install llama-index-readers-file"
      ]
    },
    {
      "cell_type": "code",
      "source": [
        "import nest_asyncio\n",
        "nest_asyncio.apply()"
      ],
      "metadata": {
        "id": "OgL-Ra4mb5t7"
      },
      "execution_count": 4,
      "outputs": []
    },
    {
      "cell_type": "code",
      "source": [
        "import os\n",
        "from google.colab import userdata\n",
        "os.environ['OPENAI_API_KEY'] = userdata.get('OPENAI_API_KEY')"
      ],
      "metadata": {
        "id": "7DQnEanZQ6Wh"
      },
      "execution_count": 5,
      "outputs": []
    },
    {
      "cell_type": "code",
      "source": [
        "from llama_index.core import SimpleDirectoryReader, VectorStoreIndex, SummaryIndex\n",
        "from llama_index.core.node_parser import SentenceSplitter\n",
        "from llama_index.core.tools import FunctionTool, QueryEngineTool\n",
        "from llama_index.core.vector_stores import MetadataFilters, FilterCondition\n",
        "from llama_index.core import Settings\n",
        "from llama_index.llms.openai import OpenAI\n",
        "from llama_index.embeddings.openai import OpenAIEmbedding\n",
        "from typing import List, Optional\n",
        "import numpy as np"
      ],
      "metadata": {
        "id": "aP2e8b_dqAza"
      },
      "execution_count": 6,
      "outputs": []
    },
    {
      "cell_type": "code",
      "source": [
        "from IPython.display import Markdown, display"
      ],
      "metadata": {
        "id": "cEJq4cT8-STd"
      },
      "execution_count": 7,
      "outputs": []
    },
    {
      "cell_type": "markdown",
      "source": [
        "### Chunking"
      ],
      "metadata": {
        "id": "26JaNlSeqEfb"
      }
    },
    {
      "cell_type": "code",
      "source": [
        "# load documents\n",
        "documents = SimpleDirectoryReader(input_files=[\n",
        "    \"CrowdStrike_FY2023_Q1.pdf\",\n",
        "    \"CrowdStrike_FY2023_Q2.pdf\",\n",
        "    \"CrowdStrike_FY2023_Q3.pdf\"\n",
        "]).load_data()\n",
        "\n",
        "splitter = SentenceSplitter(chunk_size=1024)\n",
        "nodes = splitter.get_nodes_from_documents(documents)\n",
        "\n",
        "    # Check if nodes are created successfully\n",
        "if nodes:\n",
        "        print(\"Nodes created successfully.\")\n",
        "        print(f\"Total nodes created: {len(nodes)}\")\n",
        "\n",
        "        # Print some nodes for debugging\n",
        "        print(\"Printing first 5 nodes:\")\n",
        "        for i, node in enumerate(nodes[:5]):\n",
        "            print(f\"Node {i+1}: {node}\")\n",
        "else:\n",
        "        print(\"Failed to create nodes.\")"
      ],
      "metadata": {
        "colab": {
          "base_uri": "https://localhost:8080/"
        },
        "id": "qLGaCP0HqMom",
        "outputId": "90a9dd4d-98ac-4d4e-cfd2-f36a3be9d9ec"
      },
      "execution_count": 8,
      "outputs": [
        {
          "output_type": "stream",
          "name": "stdout",
          "text": [
            "Nodes created successfully.\n",
            "Total nodes created: 48\n",
            "Printing first 5 nodes:\n",
            "Node 1: Node ID: e15553b1-3128-4d85-911b-86b90cca77a2\n",
            "Text: CRWD earnings call for the period ending April 30, 2022\n",
            "CrowdStrike Holdings, Inc. (CRWD -1.01%) Q1 2023 Earnings Call Jun 02,\n",
            "2022, 5:00 p.m. ET Contents: Prepared Remarks Questions and Answers\n",
            "Call Participants Prepared Remarks: Operator Hello. Thank you for\n",
            "standing by, and welcome to the CrowdStrike fiscal first  quarter 2023\n",
            "results confere...\n",
            "Node 2: Node ID: e605ab61-27fc-474e-9411-f3d6404dfad7\n",
            "Text: Thank you, Maria, and thank you, all, for joining us. I will\n",
            "start today's call  by summarizing three key points. First, fiscal\n",
            "2023 is off to a fantastic start. We believe our Q1 results exemplify\n",
            "that we have a winning formula that includes scale, growth,\n",
            "profitability, and free cash flow. Second, we saw strength across the\n",
            "platform, including...\n",
            "Node 3: Node ID: 543be2e5-1824-40ce-aaa0-021abb326a83\n",
            "Text: adoption metrics quarter after quarter. In Q1, subscription\n",
            "customers with four  or more, five or more, and six or more modules\n",
            "increased to 71%, 59%, and 35%,  respectively. Given subscription\n",
            "customers with four or more modules surpassed the 70%  milestone and\n",
            "is now commonplace, we are retiring this disclosure and raising  the\n",
            "bar by introduc...\n",
            "Node 4: Node ID: 4f394887-4c80-471b-a47f-00bfdc7a2294\n",
            "Text: changer in the fight against ransomware and preventing lateral\n",
            "movement. This  was demonstrated in the recent MITRE prevention\n",
            "evaluation in which Falcon  achieved 100% prevention and our Identity\n",
            "Protection module stopped the would-be attacker before it could even\n",
            "gain access to the target environment, redefining  what it means to\n",
            "stop the brea...\n",
            "Node 5: Node ID: 6bff4fc6-5c65-4150-929f-1a632869fb99\n",
            "Text: Before I hand it over to Burt, I will share one more recent new\n",
            "subscription  customer win where the incumbent vendor fell short of\n",
            "expectations. This global  business process service provider based in\n",
            "Europe was struggling with their  Microsoft deployment as complexity\n",
            "and misconfiguration pitfalls were hampering  their efforts to protect\n",
            "their...\n"
          ]
        }
      ]
    },
    {
      "cell_type": "markdown",
      "source": [
        "### Creating Vector Embeddings"
      ],
      "metadata": {
        "id": "twQIpWmIqRio"
      }
    },
    {
      "cell_type": "code",
      "source": [
        " print(\"starting vector indexing by creating embeddings using ada 002\")\n",
        "\n",
        " vector_index = VectorStoreIndex(nodes)\n",
        "\n",
        " print(\"finished vector indexing\")"
      ],
      "metadata": {
        "id": "L_gWc7GIqUw7"
      },
      "execution_count": null,
      "outputs": []
    },
    {
      "cell_type": "markdown",
      "source": [
        "### Storing Vector Embeddings"
      ],
      "metadata": {
        "id": "3Ul3mCz0qqSn"
      }
    },
    {
      "cell_type": "code",
      "source": [
        "vector_index.storage_context.persist()"
      ],
      "metadata": {
        "id": "QthRy43Vqukz"
      },
      "execution_count": 8,
      "outputs": []
    },
    {
      "cell_type": "markdown",
      "source": [
        "### Access Vector Embeddings From Storage"
      ],
      "metadata": {
        "id": "aeWMBObkq2Hp"
      }
    },
    {
      "cell_type": "code",
      "source": [
        "from llama_index.core import StorageContext, load_index_from_storage\n",
        "\n",
        "storage_context = StorageContext.from_defaults(persist_dir=\"./storage\")\n",
        "vector_index = load_index_from_storage(storage_context=storage_context)"
      ],
      "metadata": {
        "id": "y9GGj-maq8FH"
      },
      "execution_count": 9,
      "outputs": []
    },
    {
      "cell_type": "markdown",
      "source": [
        "### Function for GBP"
      ],
      "metadata": {
        "id": "MkHwKS-_3CC4"
      }
    },
    {
      "cell_type": "code",
      "source": [
        "def convert_usd_to_gbp(amount_usd, conversion_rate=0.7712):\n",
        "    \"\"\"Convert USD to GBP using the provided conversion rate.\"\"\"\n",
        "    return amount_usd * conversion_rate\n",
        "\n",
        "\n",
        "\n",
        "import re\n",
        "\n",
        "def find_usd_amounts(text):\n",
        "    \"\"\"Find all USD amounts in the text.\"\"\"\n",
        "    # Match patterns like $100 million or $1 billion\n",
        "    return re.findall(r'\\$([\\d,]+(?:\\.\\d+)?)\\s*(million|billion)', text, re.IGNORECASE)\n",
        "\n",
        "def convert_units(amount, unit):\n",
        "    \"\"\"Convert amount based on units.\"\"\"\n",
        "    if unit.lower() == 'million':\n",
        "        return amount * 1_000_000\n",
        "    elif unit.lower() == 'billion':\n",
        "        return amount * 1_000_000_000\n",
        "    return amount\n",
        "\n",
        "def integrate_conversion(answer, conversion_rate=0.7712):\n",
        "    \"\"\"Integrate USD to GBP conversion in the generated answer.\"\"\"\n",
        "    usd_amounts = find_usd_amounts(answer)\n",
        "    for amount, unit in usd_amounts:\n",
        "        amount_usd = float(amount.replace(',', ''))\n",
        "        amount_usd_converted = convert_units(amount_usd, unit)\n",
        "        amount_gbp_converted = convert_usd_to_gbp(amount_usd_converted, conversion_rate)\n",
        "        amount_gbp_display = amount_gbp_converted / convert_units(1, unit)\n",
        "        converted_text = f\"${amount} {unit} ({amount_gbp_display:.2f} {unit.lower()} GBP)\"\n",
        "        answer = re.sub(rf'\\${amount}\\s*{unit}', converted_text, answer, flags=re.IGNORECASE)\n",
        "    return answer\n"
      ],
      "metadata": {
        "id": "VSyqsnXX3Ls-"
      },
      "execution_count": 10,
      "outputs": []
    },
    {
      "cell_type": "markdown",
      "source": [
        "### Function for creating Tools"
      ],
      "metadata": {
        "id": "OKONlIP8fQE6"
      }
    },
    {
      "cell_type": "code",
      "source": [
        "## TEST\n",
        "\n",
        "def get_doc_tools(file_path: str, name: str) -> str:\n",
        "    \"\"\"Get vector query and summary query tools from a document.\"\"\"\n",
        "\n",
        "    def vector_query(query: str, page_numbers: Optional[List[str]] = None) -> str:\n",
        "        \"\"\"Use to answer questions over a given paper.\n",
        "\n",
        "        Useful if you have specific questions over the paper.\n",
        "        Always leave page_numbers as None UNLESS there is a specific page you want to search for.\n",
        "\n",
        "        Args:\n",
        "            query (str): the string query to be embedded.\n",
        "            page_numbers (Optional[List[str]]): Filter by set of pages. Leave as NONE\n",
        "                if we want to perform a vector search\n",
        "                over all pages. Otherwise, filter by the set of specified pages.\n",
        "\n",
        "        \"\"\"\n",
        "\n",
        "        page_numbers = page_numbers or []\n",
        "        metadata_dicts = [{\"key\": \"page_label\", \"value\": p} for p in page_numbers]\n",
        "\n",
        "        query_engine = vector_index.as_query_engine(\n",
        "            similarity_top_k=2,\n",
        "            filters=MetadataFilters.from_dicts(metadata_dicts, condition=FilterCondition.OR)\n",
        "        )\n",
        "        response = query_engine.query(query)\n",
        "        response_text = str(response)  # Ensure response is converted to string\n",
        "\n",
        "        # Integrate the USD to GBP conversion\n",
        "        response_text_with_conversion = integrate_conversion(response_text)\n",
        "\n",
        "        return response_text_with_conversion\n",
        "\n",
        "    vector_query_tool = FunctionTool.from_defaults(\n",
        "        name=f\"vector_tool_{name}\",\n",
        "        fn=vector_query\n",
        "    )\n",
        "\n",
        "    def summary_query(query: str) -> str:\n",
        "        \"\"\"Use to generate summary for a given query.\"\"\"\n",
        "        response = summary_query_engine.query(query)\n",
        "        response_text = str(response)  # Ensure response is converted to string\n",
        "\n",
        "        # Integrate the USD to GBP conversion\n",
        "        response_text_with_conversion = integrate_conversion(response_text)\n",
        "\n",
        "        return response_text_with_conversion\n",
        "\n",
        "    summary_index = SummaryIndex(nodes)\n",
        "\n",
        "    summary_query_engine = summary_index.as_query_engine(\n",
        "        response_mode=\"tree_summarize\",\n",
        "        use_async=True,\n",
        "    )\n",
        "\n",
        "    summary_tool = FunctionTool.from_defaults(\n",
        "        name=f\"summary_tool_{name}\",\n",
        "        fn=summary_query,\n",
        "        description=f\"Useful for summarization questions related to {name}\",\n",
        "    )\n",
        "\n",
        "    return vector_query_tool, summary_tool\n"
      ],
      "metadata": {
        "id": "l1bOkgkwe14m"
      },
      "execution_count": 11,
      "outputs": []
    },
    {
      "cell_type": "code",
      "source": [
        "def get_doc_tools(\n",
        "    file_path: str,\n",
        "    name: str,\n",
        ") -> str:\n",
        "    \"\"\"Get vector query and summary query tools from a document.\"\"\"\n",
        "\n",
        "\n",
        "    def vector_query(\n",
        "        query: str,\n",
        "        page_numbers: Optional[List[str]] = None\n",
        "    ) -> str:\n",
        "        \"\"\"Use to answer questions over a given paper.\n",
        "\n",
        "        Useful if you have specific questions over the paper.\n",
        "        Always leave page_numbers as None UNLESS there is a specific page you want to search for.\n",
        "\n",
        "        Args:\n",
        "            query (str): the string query to be embedded.\n",
        "            page_numbers (Optional[List[str]]): Filter by set of pages. Leave as NONE\n",
        "                if we want to perform a vector search\n",
        "                over all pages. Otherwise, filter by the set of specified pages.\n",
        "\n",
        "        \"\"\"\n",
        "\n",
        "        page_numbers = page_numbers or []\n",
        "        metadata_dicts = [\n",
        "            {\"key\": \"page_label\", \"value\": p} for p in page_numbers\n",
        "        ]\n",
        "\n",
        "        query_engine = vector_index.as_query_engine(\n",
        "            similarity_top_k=2,\n",
        "            filters=MetadataFilters.from_dicts(\n",
        "                metadata_dicts,\n",
        "                condition=FilterCondition.OR\n",
        "            )\n",
        "        )\n",
        "        response = query_engine.query(query)\n",
        "\n",
        "        response_text = str(response)\n",
        "\n",
        "        # Integrate the USD to GBP conversion\n",
        "        response_text_with_conversion = integrate_conversion(response_text)\n",
        "\n",
        "        return response_text_with_conversion\n",
        "\n",
        "    vector_query_tool = FunctionTool.from_defaults(\n",
        "        name=f\"vector_tool_{name}\",\n",
        "        fn=vector_query\n",
        "    )\n",
        "\n",
        "\n",
        "    summary_index = SummaryIndex(nodes)\n",
        "\n",
        "\n",
        "    summary_query_engine = summary_index.as_query_engine(\n",
        "        response_mode=\"tree_summarize\",\n",
        "        use_async=True,\n",
        "    )\n",
        "    summary_tool = QueryEngineTool.from_defaults(\n",
        "        name=f\"summary_tool_{name}\",\n",
        "        query_engine=summary_query_engine,\n",
        "        description=(\n",
        "            f\"Useful for summarization questions related to {name}\"\n",
        "        ),\n",
        "    )\n",
        "\n",
        "    return vector_query_tool, summary_tool"
      ],
      "metadata": {
        "id": "CLp1yb8ffPmR"
      },
      "execution_count": 2,
      "outputs": []
    },
    {
      "cell_type": "markdown",
      "source": [
        "### Calling the function for creating tools"
      ],
      "metadata": {
        "id": "7toDhL0Lxyoe"
      }
    },
    {
      "cell_type": "code",
      "source": [
        "papers = [\n",
        "    \"CrowdStrike_FY2023_Q1.pdf\",\n",
        "    \"CrowdStrike_FY2023_Q2.pdf\",\n",
        "    \"CrowdStrike_FY2023_Q3.pdf\"\n",
        "]\n",
        "\n",
        "paper_to_tools_dict = {}\n",
        "for paper in papers:\n",
        "    print(f\"Getting tools for paper: {paper}\")\n",
        "    vector_tool, summary_tool = get_doc_tools(paper, paper.replace(\".pdf\", \"\"))\n",
        "    paper_to_tools_dict[paper] = [vector_tool, summary_tool]\n"
      ],
      "metadata": {
        "colab": {
          "base_uri": "https://localhost:8080/"
        },
        "id": "fqmf1hcaHajt",
        "outputId": "5357cbca-2ef1-4bde-9ff6-443ee4560e47"
      },
      "execution_count": 12,
      "outputs": [
        {
          "output_type": "stream",
          "name": "stdout",
          "text": [
            "Getting tools for paper: CrowdStrike_FY2023_Q1.pdf\n",
            "Getting tools for paper: CrowdStrike_FY2023_Q2.pdf\n",
            "Getting tools for paper: CrowdStrike_FY2023_Q3.pdf\n"
          ]
        }
      ]
    },
    {
      "cell_type": "code",
      "source": [
        "initial_tools = [t for paper in papers for t in paper_to_tools_dict[paper]]"
      ],
      "metadata": {
        "id": "M2GPW4O0zuH5"
      },
      "execution_count": 13,
      "outputs": []
    },
    {
      "cell_type": "code",
      "source": [
        "print(initial_tools)"
      ],
      "metadata": {
        "colab": {
          "base_uri": "https://localhost:8080/"
        },
        "id": "Sc09hkAWUxGd",
        "outputId": "e2614fd4-ec41-4331-b797-6d1ba9bdff65"
      },
      "execution_count": 14,
      "outputs": [
        {
          "output_type": "stream",
          "name": "stdout",
          "text": [
            "[<llama_index.core.tools.function_tool.FunctionTool object at 0x7e91d5d29d50>, <llama_index.core.tools.function_tool.FunctionTool object at 0x7e91d5d2ab60>, <llama_index.core.tools.function_tool.FunctionTool object at 0x7e91d5d2bd90>, <llama_index.core.tools.function_tool.FunctionTool object at 0x7e91d6a13250>, <llama_index.core.tools.function_tool.FunctionTool object at 0x7e91d5cfa560>, <llama_index.core.tools.function_tool.FunctionTool object at 0x7e91d5cfba00>]\n"
          ]
        }
      ]
    },
    {
      "source": [
        "from llama_index.llms.openai import OpenAI\n",
        "llm = OpenAI(model=\"gpt-3.5-turbo\")"
      ],
      "cell_type": "code",
      "metadata": {
        "id": "7--ekoKo3XDw"
      },
      "execution_count": 15,
      "outputs": []
    },
    {
      "cell_type": "code",
      "source": [
        "len(initial_tools)"
      ],
      "metadata": {
        "colab": {
          "base_uri": "https://localhost:8080/"
        },
        "id": "nfABekwBV3Yq",
        "outputId": "ea7ffefa-b532-42f8-a343-f74044f67288"
      },
      "execution_count": 16,
      "outputs": [
        {
          "output_type": "execute_result",
          "data": {
            "text/plain": [
              "6"
            ]
          },
          "metadata": {},
          "execution_count": 16
        }
      ]
    },
    {
      "cell_type": "code",
      "source": [
        "from llama_index.core.agent import FunctionCallingAgentWorker\n",
        "from llama_index.core.agent import AgentRunner\n",
        "\n",
        "agent_worker = FunctionCallingAgentWorker.from_tools(\n",
        "    initial_tools,\n",
        "    llm=llm,\n",
        "    verbose=True\n",
        ")\n",
        "agent = AgentRunner(agent_worker)"
      ],
      "metadata": {
        "id": "Q9sOLBBS3qPR"
      },
      "execution_count": 17,
      "outputs": []
    },
    {
      "cell_type": "markdown",
      "source": [
        "### QnA"
      ],
      "metadata": {
        "id": "dPjf9nqIrY6O"
      }
    },
    {
      "cell_type": "code",
      "source": [
        "response = agent.query(\n",
        "    \"Tell me about the financial status of the company\"\n",
        ")"
      ],
      "metadata": {
        "id": "b3nCgF-e3q58",
        "colab": {
          "base_uri": "https://localhost:8080/"
        },
        "outputId": "72ec10bd-aa3e-4444-8c30-102579e16f2b"
      },
      "execution_count": 16,
      "outputs": [
        {
          "output_type": "stream",
          "name": "stdout",
          "text": [
            "Added user message to memory: Tell me about the financial status of the company\n",
            "=== Calling Function ===\n",
            "Calling function: vector_tool_CrowdStrike_FY2023_Q1 with args: {\"query\": \"financial status\"}\n",
            "=== Function Output ===\n",
            "CrowdStrike reported strong financial results for the third quarter of fiscal year 2023. The company achieved significant growth in ending ARR, net new ARR, total revenue, and subscription revenue. Additionally, CrowdStrike demonstrated strong performance in terms of gross margins, operating expenses, operating income, and net income. The company also highlighted its focus on maintaining a balance between growth and profitability, as well as its commitment to generating free cash flow.\n",
            "=== Calling Function ===\n",
            "Calling function: vector_tool_CrowdStrike_FY2023_Q2 with args: {\"query\": \"financial status\"}\n",
            "=== Function Output ===\n",
            "The company reported strong financial results in the third quarter of fiscal year 2023. Total revenue grew by 53% year over year to reach $580.9 million, with subscription revenue increasing by 53% to $547.4 million. Non-GAAP operating income grew by 77% year over year to reach a record $89.7 million, and operating margin improved by 2 percentage points to reach 15%. The company also saw significant growth in cash flow from operations, which increased by 53% year over year to a record $242.9 million, and free cash flow grew by 41% year over year to a record $174.1 million. Additionally, the company ended the quarter with a strong balance sheet, with cash and cash equivalents increasing to approximately $2.47 billion.\n",
            "=== Calling Function ===\n",
            "Calling function: vector_tool_CrowdStrike_FY2023_Q3 with args: {\"query\": \"financial status\"}\n",
            "=== Function Output ===\n",
            "CrowdStrike reported strong financial results in the third quarter of fiscal year 2023. Total revenue grew by 53% year over year to reach $580.9 million, with subscription revenue increasing by 53% to $547.4 million. The company also achieved a record non-GAAP operating income of $89.7 million, representing a 77% year-over-year growth. Additionally, CrowdStrike's cash and cash equivalents increased to approximately $2.47 billion, with cash flow from operations growing by 53% year over year to a record $242.9 million. Free cash flow also saw a significant increase of 41% year over year to reach a record $174.1 million.\n",
            "=== LLM Response ===\n",
            "The company, CrowdStrike, reported strong financial results in the third quarter of fiscal year 2023. Here are some key points about their financial status:\n",
            "\n",
            "1. CrowdStrike achieved significant growth in ending ARR, net new ARR, total revenue, and subscription revenue.\n",
            "2. The company demonstrated strong performance in terms of gross margins, operating expenses, operating income, and net income.\n",
            "3. CrowdStrike highlighted its focus on maintaining a balance between growth and profitability, as well as its commitment to generating free cash flow.\n",
            "4. Total revenue grew by 53% year over year to reach $580.9 million, with subscription revenue increasing by 53% to $547.4 million.\n",
            "5. Non-GAAP operating income grew by 77% year over year to reach a record $89.7 million, and operating margin improved by 2 percentage points to reach 15%.\n",
            "6. Cash flow from operations increased by 53% year over year to a record $242.9 million, and free cash flow grew by 41% year over year to a record $174.1 million.\n",
            "7. The company ended the quarter with a strong balance sheet, with cash and cash equivalents increasing to approximately $2.47 billion.\n",
            "\n",
            "Overall, CrowdStrike's financial status in the third quarter of fiscal year 2023 reflects strong growth and performance in key financial metrics.\n"
          ]
        }
      ]
    },
    {
      "cell_type": "code",
      "source": [
        "response = agent.query(\"What was the revenue in quarter 3\")"
      ],
      "metadata": {
        "colab": {
          "base_uri": "https://localhost:8080/"
        },
        "id": "dEMN6XSe42UE",
        "outputId": "ee0cdf83-5696-4f54-efc3-24769a0f906d"
      },
      "execution_count": 45,
      "outputs": [
        {
          "output_type": "stream",
          "name": "stdout",
          "text": [
            "Added user message to memory: What was the revenue in quarter 3\n",
            "=== Calling Function ===\n",
            "Calling function: vector_tool_CrowdStrike_FY2023_Q3 with args: {\"query\": \"revenue\"}\n",
            "=== Function Output ===\n",
            "Revenue grew 53% over Q3 of the previous year to reach $580.9 million (447.99 million GBP). Subscription revenue specifically grew 53% over the same period to reach $547.4 million (422.15 million GBP). Professional services revenue was $33.5 million (25.84 million GBP), showing a 46% year-over-year growth.\n",
            "=== LLM Response ===\n",
            "The revenue in quarter 3 was $580.9 million.\n"
          ]
        }
      ]
    },
    {
      "cell_type": "code",
      "source": [
        "response = agent.query(\"recipe to make a coffee\")"
      ],
      "metadata": {
        "id": "hRhEGAHk3uTO",
        "colab": {
          "base_uri": "https://localhost:8080/"
        },
        "outputId": "84c589ef-d813-47b4-de57-5426cd5adc1c"
      },
      "execution_count": 47,
      "outputs": [
        {
          "output_type": "stream",
          "name": "stdout",
          "text": [
            "Added user message to memory: recipe to make a coffee\n",
            "=== Calling Function ===\n",
            "Calling function: vector_tool_CrowdStrike_FY2023_Q1 with args: {\"query\": \"recipe to make a coffee\"}\n",
            "=== Function Output ===\n",
            "Efficiency in sales and customer acquisition is key to success. By leveraging an e-commerce platform with a high magic number, companies can streamline the process of gaining new customers and cross-selling to existing ones. Prioritizing customer needs and offering a seamless buying experience can set a company apart from its competition. Additionally, focusing on providing value and addressing critical issues, such as cybersecurity threats, can lead to upselling opportunities and increased deal sizes. Leveraging technology and a strong sales team can drive efficiency and contribute to overall organizational success.\n",
            "=== LLM Response ===\n",
            "I couldn't find a specific recipe for making coffee in the document. However, the document emphasizes the importance of efficiency in sales and customer acquisition for organizational success. It mentions leveraging e-commerce platforms, prioritizing customer needs, providing value, addressing cybersecurity threats, and utilizing technology and a strong sales team to drive efficiency. If you need a coffee recipe, I can provide one for you. Would you like me to do that?\n"
          ]
        }
      ]
    },
    {
      "cell_type": "code",
      "source": [
        "response = agent.query(\"Who is the CFO of the company\")"
      ],
      "metadata": {
        "colab": {
          "base_uri": "https://localhost:8080/"
        },
        "id": "49DTglMiZ9tQ",
        "outputId": "6b40608d-7556-4da2-9cab-39d484e6c6b1"
      },
      "execution_count": 50,
      "outputs": [
        {
          "output_type": "stream",
          "name": "stdout",
          "text": [
            "Added user message to memory: Who is the CFO of the company\n",
            "=== Calling Function ===\n",
            "Calling function: vector_tool_CrowdStrike_FY2023_Q1 with args: {\"query\": \"CFO\"}\n",
            "=== Function Output ===\n",
            "Burt Podbere\n",
            "=== LLM Response ===\n",
            "The CFO of the company is Burt Podbere.\n"
          ]
        }
      ]
    },
    {
      "cell_type": "code",
      "source": [
        "response = agent.query(\"How was the performance of the company\")"
      ],
      "metadata": {
        "colab": {
          "base_uri": "https://localhost:8080/"
        },
        "id": "W3qFWoy8bmoS",
        "outputId": "34590e24-2085-46a6-81f9-7615a47c5a62"
      },
      "execution_count": 46,
      "outputs": [
        {
          "output_type": "stream",
          "name": "stdout",
          "text": [
            "Added user message to memory: How was the performance of the company\n",
            "=== Calling Function ===\n",
            "Calling function: vector_tool_CrowdStrike_FY2023_Q1 with args: {\"query\": \"performance of the company\"}\n",
            "=== Function Output ===\n",
            "The company has recently achieved its strongest net new ARR quarter in its history, reaching a record $218 million (168.12 million GBP) in net new ARR. This performance indicates strong health in the business, with the metric being a focal point for the entire company. The CEO expressed satisfaction with the results and emphasized the importance of this metric for the company's performance.\n",
            "=== Calling Function ===\n",
            "Calling function: vector_tool_CrowdStrike_FY2023_Q2 with args: {\"query\": \"performance of the company\"}\n",
            "=== Function Output ===\n",
            "The company has recently achieved its strongest net new ARR quarter in its history, reaching a record $218 million (168.12 million GBP) in net new ARR. This performance indicates strong health in the business, with the company being pleased with the results and focusing on this metric as a key indicator of success.\n",
            "=== Calling Function ===\n",
            "Calling function: vector_tool_CrowdStrike_FY2023_Q3 with args: {\"query\": \"performance of the company\"}\n",
            "=== Function Output ===\n",
            "The company has achieved its strongest net new ARR quarter in its history, reaching a record $218 million (168.12 million GBP) in net new ARR. The leadership is pleased with the results and considers this metric as a key focus for the entire company. The competitive environment remains strong, with the company continuing to win at a high rate and emphasizing its technology, platform, AI capabilities, and customer success as key strengths.\n",
            "=== LLM Response ===\n",
            "The company has recently achieved its strongest net new ARR quarter in its history, reaching a record $218 million (168.12 million GBP) in net new ARR. This performance indicates strong health in the business, with the metric being a focal point for the entire company. The CEO expressed satisfaction with the results and emphasized the importance of this metric for the company's performance. The competitive environment remains strong, with the company continuing to win at a high rate and emphasizing its technology, platform, AI capabilities, and customer success as key strengths.\n"
          ]
        }
      ]
    },
    {
      "cell_type": "code",
      "source": [
        "response = agent.query(\"How does the company performed in quarter 3 compared to quarter 1\")"
      ],
      "metadata": {
        "colab": {
          "base_uri": "https://localhost:8080/"
        },
        "outputId": "95779c5f-67af-44d6-f677-d6a25157fdd9",
        "id": "ov1Bfx9TuIKO"
      },
      "execution_count": 48,
      "outputs": [
        {
          "output_type": "stream",
          "name": "stdout",
          "text": [
            "Added user message to memory: How does the company performed in quarter 3 compared to quarter 1\n",
            "=== Calling Function ===\n",
            "Calling function: vector_tool_CrowdStrike_FY2023_Q1 with args: {\"query\": \"financial performance\"}\n",
            "=== Function Output ===\n",
            "The company reported strong financial performance in the third quarter of fiscal year 2023. Total revenue grew by 53% over the same quarter last year, reaching $580.9 million (447.99 million GBP). Subscription revenue also saw significant growth, increasing by 53% to reach $547.4 million (422.15 million GBP). Non-GAAP operating income grew by 77% year over year to reach a record $89.7 million (69.18 million GBP), with an operating margin improvement of 2 percentage points to reach 15%. Additionally, non-GAAP net income attributable to the company more than doubled over the prior year, growing to a record $96.1 million (74.11 million GBP). Cash flow from operations and free cash flow also experienced substantial growth, increasing by 53% and 41% year over year, respectively.\n",
            "=== Calling Function ===\n",
            "Calling function: vector_tool_CrowdStrike_FY2023_Q3 with args: {\"query\": \"financial performance\"}\n",
            "=== Function Output ===\n",
            "The company reported strong financial performance in the third quarter of fiscal year 2023. Total revenue grew by 53% over the same quarter last year, reaching $580.9 million (447.99 million GBP). Subscription revenue also saw significant growth, increasing by 53% to $547.4 million (422.15 million GBP). Non-GAAP operating income grew by 77% year over year to reach a record $89.7 million (69.18 million GBP), with an operating margin improvement of 2 percentage points to reach 15%. Additionally, non-GAAP net income attributable to the company more than doubled over the prior year, reaching a record $96.1 million (74.11 million GBP). Cash flow from operations grew by 53% year over year to a record $242.9 million (187.32 million GBP), and free cash flow grew by 41% year over year to a record $174.1 million (134.27 million GBP).\n",
            "=== LLM Response ===\n",
            "The company reported strong financial performance in both quarter 1 and quarter 3 of fiscal year 2023. In quarter 3, total revenue grew by 53% over the same quarter last year, reaching $580.9 million. Subscription revenue also saw significant growth, increasing by 53% to $547.4 million. Non-GAAP operating income grew by 77% year over year to reach a record $89.7 million, with an operating margin improvement of 2 percentage points to reach 15%. Additionally, non-GAAP net income attributable to the company more than doubled over the prior year, growing to a record $96.1 million. Cash flow from operations and free cash flow also experienced substantial growth, increasing by 53% and 41% year over year, respectively.\n"
          ]
        }
      ]
    },
    {
      "cell_type": "code",
      "source": [
        "response = agent.query(\"How does the company performed in quarter 3 compared to quarter 1\")\n",
        "print(str(response))"
      ],
      "metadata": {
        "colab": {
          "base_uri": "https://localhost:8080/"
        },
        "id": "F01IVjoLudYX",
        "outputId": "5da1fdb3-e45d-4a51-b155-3492f9fcad42"
      },
      "execution_count": 14,
      "outputs": [
        {
          "output_type": "stream",
          "name": "stdout",
          "text": [
            "Added user message to memory: How does the company performed in quarter 3 compared to quarter 1\n",
            "=== Calling Function ===\n",
            "Calling function: vector_tool_CrowdStrike_FY2023_Q1 with args: {\"query\": \"financial performance\"}\n",
            "=== Function Output ===\n",
            "The company reported strong financial performance in the third quarter of fiscal year 2023. Total revenue grew by 53% over the same quarter last year, reaching $580.9 million. Subscription revenue also saw significant growth, increasing by 53% to reach $547.4 million. Non-GAAP operating income grew by 77% year over year to reach a record $89.7 million, with an operating margin improvement of 2 percentage points to reach 15%. Additionally, non-GAAP net income attributable to the company more than doubled over the prior year, growing to a record $96.1 million. Cash flow from operations and free cash flow also experienced substantial growth, increasing by 53% and 41% year over year, respectively.\n",
            "=== Calling Function ===\n",
            "Calling function: vector_tool_CrowdStrike_FY2023_Q3 with args: {\"query\": \"financial performance\"}\n",
            "=== Function Output ===\n",
            "The company reported strong financial performance in the third quarter of fiscal year 2023. Total revenue grew by 53% year over year to reach $580.9 million, with subscription revenue growing by 53% to $547.4 million. Non-GAAP operating income increased by 77% year over year to $89.7 million, and non-GAAP net income attributable to CrowdStrike more than doubled to $96.1 million. Cash flow from operations and free cash flow also saw significant growth, with cash and cash equivalents increasing to approximately $2.47 billion.\n",
            "=== LLM Response ===\n",
            "The company reported strong financial performance in both quarter 1 and quarter 3 of fiscal year 2023. In quarter 3, total revenue grew by 53% year over year to reach $580.9 million, with subscription revenue increasing by 53% to $547.4 million. Non-GAAP operating income also saw significant growth, reaching $89.7 million, a 77% increase over the prior year. Non-GAAP net income attributable to the company more than doubled to $96.1 million. Cash flow from operations and free cash flow also experienced substantial growth in quarter 3.\n",
            "\n",
            "Overall, the company performed well in both quarters, with strong revenue growth, increased operating income, and improved cash flow metrics.\n",
            "The company reported strong financial performance in both quarter 1 and quarter 3 of fiscal year 2023. In quarter 3, total revenue grew by 53% year over year to reach $580.9 million, with subscription revenue increasing by 53% to $547.4 million. Non-GAAP operating income also saw significant growth, reaching $89.7 million, a 77% increase over the prior year. Non-GAAP net income attributable to the company more than doubled to $96.1 million. Cash flow from operations and free cash flow also experienced substantial growth in quarter 3.\n",
            "\n",
            "Overall, the company performed well in both quarters, with strong revenue growth, increased operating income, and improved cash flow metrics.\n"
          ]
        }
      ]
    },
    {
      "cell_type": "code",
      "source": [
        "response = agent.query(\"Who are the analyst who joined the call\")"
      ],
      "metadata": {
        "colab": {
          "base_uri": "https://localhost:8080/"
        },
        "id": "udG_5mNRwnLg",
        "outputId": "d61a8a31-6f14-4ce5-d659-16dbcc23d4e3"
      },
      "execution_count": 15,
      "outputs": [
        {
          "output_type": "stream",
          "name": "stdout",
          "text": [
            "Added user message to memory: Who are the analyst who joined the call\n",
            "=== Calling Function ===\n",
            "Calling function: vector_tool_CrowdStrike_FY2023_Q1 with args: {\"query\": \"analyst joined the call\"}\n",
            "=== Function Output ===\n",
            "Joe Gallo from Jefferies, Saket Kalia from Barclays, and several other analysts joined the call.\n",
            "=== Calling Function ===\n",
            "Calling function: vector_tool_CrowdStrike_FY2023_Q2 with args: {\"query\": \"analyst joined the call\"}\n",
            "=== Function Output ===\n",
            "Joe Gallo from Jefferies, Saket Kalia from Barclays, and several other analysts joined the call.\n",
            "=== Calling Function ===\n",
            "Calling function: vector_tool_CrowdStrike_FY2023_Q3 with args: {\"query\": \"analyst joined the call\"}\n",
            "=== Function Output ===\n",
            "Joe Gallo from Jefferies, Andrew Nowinski from Well Fargo Securities, Brian Essex from Goldman Sachs, Joel Fishbein from Truist Securities, Matt Hedberg from RBC Capital Markets, Rob Owens from Piper Sandler, Alex Henderson from Needham and Company, Roger Boyd from UBS, Daniel Park from Canaccord Genuity, Shaul Eyal from Cowen and Company, Fatima Boolani from Citi, Brad Reback from Stifel Financial Corp., and Janet Zhang from BTIG.\n",
            "=== LLM Response ===\n",
            "Analysts who joined the call include Joe Gallo from Jefferies, Saket Kalia from Barclays, Andrew Nowinski from Well Fargo Securities, Brian Essex from Goldman Sachs, Joel Fishbein from Truist Securities, Matt Hedberg from RBC Capital Markets, Rob Owens from Piper Sandler, Alex Henderson from Needham and Company, Roger Boyd from UBS, Daniel Park from Canaccord Genuity, Shaul Eyal from Cowen and Company, Fatima Boolani from Citi, Brad Reback from Stifel Financial Corp., and Janet Zhang from BTIG.\n"
          ]
        }
      ]
    },
    {
      "cell_type": "code",
      "source": [
        "response = agent.query(\"Who are the analyst who joined the call adn list out the analysts who joined the call across the 3 quarters\")"
      ],
      "metadata": {
        "colab": {
          "base_uri": "https://localhost:8080/"
        },
        "id": "_qD_TK2Swxic",
        "outputId": "0fea3961-eebb-407c-fc1f-b4307ad60e12"
      },
      "execution_count": 16,
      "outputs": [
        {
          "output_type": "stream",
          "name": "stdout",
          "text": [
            "Added user message to memory: Who are the analyst who joined the call adn list out the analysts who joined the call across the 3 quarters\n",
            "=== Calling Function ===\n",
            "Calling function: vector_tool_CrowdStrike_FY2023_Q1 with args: {\"query\": \"list of analysts who joined the call\"}\n",
            "=== Function Output ===\n",
            "Andrew Nowinski, Brian Essex, Joel Fishbein, Matt Hedberg, Rob Owens, Alex Henderson, Roger Boyd, Daniel Park, Joseph Gallo, Shaul Eyal, Fatima Boolani, Brad Reback, Janet Zhang, Sterling Auty, Hamza Fodderwala, Tal Liani, John DiFucci, Brad Zelnick, Joe Gallo\n",
            "=== Calling Function ===\n",
            "Calling function: vector_tool_CrowdStrike_FY2023_Q2 with args: {\"query\": \"list of analysts who joined the call\"}\n",
            "=== Function Output ===\n",
            "Andrew Nowinski, Brian Essex, Joel Fishbein, Matt Hedberg, Rob Owens, Alex Henderson, Roger Boyd, Daniel Park, Joseph Gallo, Shaul Eyal, Fatima Boolani, Brad Reback, Janet Zhang, Sterling Auty, Hamza Fodderwala, Tal Liani, John DiFucci, Brad Zelnick, Joe Gallo\n",
            "=== Calling Function ===\n",
            "Calling function: vector_tool_CrowdStrike_FY2023_Q3 with args: {\"query\": \"list of analysts who joined the call\"}\n",
            "=== Function Output ===\n",
            "Andrew Nowinski, Brian Essex, Joel Fishbein, Matt Hedberg, Rob Owens, Alex Henderson, Roger Boyd, Daniel Park, Joseph Gallo, Shaul Eyal, Fatima Boolani, Brad Reback, Janet Zhang, Sterling Auty, Hamza Fodderwala, Tal Liani, John DiFucci, Brad Zelnick, Joe Gallo\n",
            "=== LLM Response ===\n",
            "The analysts who joined the call across the three quarters are:\n",
            "- Andrew Nowinski\n",
            "- Brian Essex\n",
            "- Joel Fishbein\n",
            "- Matt Hedberg\n",
            "- Rob Owens\n",
            "- Alex Henderson\n",
            "- Roger Boyd\n",
            "- Daniel Park\n",
            "- Joseph Gallo\n",
            "- Shaul Eyal\n",
            "- Fatima Boolani\n",
            "- Brad Reback\n",
            "- Janet Zhang\n",
            "- Sterling Auty\n",
            "- Hamza Fodderwala\n",
            "- Tal Liani\n",
            "- John DiFucci\n",
            "- Brad Zelnick\n",
            "- Joe Gallo\n"
          ]
        }
      ]
    },
    {
      "cell_type": "code",
      "source": [
        "response = agent.query(\"How are the focus areas for the company changed from quarter 1 to quarter 3\")"
      ],
      "metadata": {
        "colab": {
          "base_uri": "https://localhost:8080/"
        },
        "id": "gv0W_duqxfNF",
        "outputId": "f25493c1-313b-41df-d7c2-db54fabe0765"
      },
      "execution_count": 17,
      "outputs": [
        {
          "output_type": "stream",
          "name": "stdout",
          "text": [
            "Added user message to memory: How are the focus areas for the company changed from quarter 1 to quarter 3\n",
            "=== Calling Function ===\n",
            "Calling function: vector_tool_CrowdStrike_FY2023_Q1 with args: {\"query\": \"focus areas\"}\n",
            "=== Function Output ===\n",
            "Complete, Spotlight, Identity Threat Detection\n",
            "=== Calling Function ===\n",
            "Calling function: vector_tool_CrowdStrike_FY2023_Q3 with args: {\"query\": \"focus areas\"}\n",
            "=== Function Output ===\n",
            "Complete, Spotlight, Identity Threat Detection\n",
            "=== LLM Response ===\n",
            "The focus areas for the company remained the same from quarter 1 to quarter 3. The focus areas are \"Complete, Spotlight, Identity Threat Detection.\"\n"
          ]
        }
      ]
    },
    {
      "cell_type": "code",
      "source": [
        "response = agent.query(\"What are the steps that imporved the performance of the company in quarter 2 if we compare it with quarter 1. What were the the result of those steps\")"
      ],
      "metadata": {
        "colab": {
          "base_uri": "https://localhost:8080/"
        },
        "id": "dhYK3U3v1HdO",
        "outputId": "93f5c1a7-830a-46fa-9751-66475fcc4020"
      },
      "execution_count": 18,
      "outputs": [
        {
          "output_type": "stream",
          "name": "stdout",
          "text": [
            "Added user message to memory: What are the steps that imporved the performance of the company in quarter 2 if we compare it with quarter 1. What were the the result of those steps\n",
            "=== Calling Function ===\n",
            "Calling function: vector_tool_CrowdStrike_FY2023_Q1 with args: {\"query\": \"steps that improved the performance of the company\"}\n",
            "=== Function Output ===\n",
            "Investing in the e-commerce platform, increasing the number of trials available, prioritizing customer needs, leveraging the trial program to drive sales efficiency, upselling modules through the e-commerce platform, and focusing on go-to-market execution are steps that have improved the performance of the company.\n",
            "=== Calling Function ===\n",
            "Calling function: vector_tool_CrowdStrike_FY2023_Q2 with args: {\"query\": \"steps that improved the performance of the company\"}\n",
            "=== Function Output ===\n",
            "Investing in the e-commerce platform, increasing the number of trials available, prioritizing customer needs, leveraging the trial program to drive sales efficiency, upselling modules through the e-commerce platform, and focusing on go-to-market execution are steps that have improved the performance of the company.\n",
            "=== Calling Function ===\n",
            "Calling function: summary_tool_CrowdStrike_FY2023_Q1 with args: {\"input\": \"Investing in the e-commerce platform, increasing the number of trials available, prioritizing customer needs, leveraging the trial program to drive sales efficiency, upselling modules through the e-commerce platform, and focusing on go-to-market execution are steps that have improved the performance of the company.\"}\n",
            "=== Function Output ===\n",
            "The strategic initiatives of investing in the e-commerce platform, increasing the number of trials available, prioritizing customer needs, leveraging the trial program to drive sales efficiency, upselling modules through the e-commerce platform, and focusing on go-to-market execution have indeed positively impacted the company's performance. These actions have led to record net new ARR, accelerated growth, increased customer adoption, and a strong pipeline. The company's ability to efficiently reach and serve small businesses, drive module adoption, and provide a seamless platform for customers has been instrumental in driving success and growth.\n",
            "=== Calling Function ===\n",
            "Calling function: summary_tool_CrowdStrike_FY2023_Q2 with args: {\"input\": \"Investing in the e-commerce platform, increasing the number of trials available, prioritizing customer needs, leveraging the trial program to drive sales efficiency, upselling modules through the e-commerce platform, and focusing on go-to-market execution are steps that have improved the performance of the company.\"}\n",
            "=== Function Output ===\n",
            "The steps of investing in the e-commerce platform, increasing the number of trials available, prioritizing customer needs, leveraging the trial program to drive sales efficiency, upselling modules through the e-commerce platform, and focusing on go-to-market execution have indeed enhanced the company's performance. These initiatives have led to record net new ARR, accelerated growth, record customer additions, and strong financial results. The company's ability to efficiently reach and serve the small business community, drive module adoption, and expand its customer base through e-commerce and trial programs has been a key factor in its success. Additionally, the focus on go-to-market execution and delivering value to customers has resulted in high retention rates, increased module adoption, and larger deal sizes among both large and small customers.\n",
            "=== LLM Response ===\n",
            "The steps that improved the performance of the company in quarter 2, compared to quarter 1, include investing in the e-commerce platform, increasing the number of trials available, prioritizing customer needs, leveraging the trial program to drive sales efficiency, upselling modules through the e-commerce platform, and focusing on go-to-market execution. \n",
            "\n",
            "These actions have resulted in record net new ARR, accelerated growth, increased customer adoption, a strong pipeline, and enhanced financial results. The company's ability to efficiently reach and serve small businesses, drive module adoption, and provide a seamless platform for customers has been instrumental in driving success and growth. Additionally, the focus on go-to-market execution and delivering value to customers has led to high retention rates, increased module adoption, and larger deal sizes among both large and small customers.\n"
          ]
        }
      ]
    },
    {
      "cell_type": "code",
      "source": [
        "response = agent.query(\"Who are the analyst who joined the call adn list out the analysts who joined the call across the 3 quarters. list in tabular format\")"
      ],
      "metadata": {
        "colab": {
          "base_uri": "https://localhost:8080/"
        },
        "id": "etO_EG7UC7tP",
        "outputId": "7e7650c5-1600-4c49-d187-926d4bc1e8b8"
      },
      "execution_count": 19,
      "outputs": [
        {
          "output_type": "stream",
          "name": "stdout",
          "text": [
            "Added user message to memory: Who are the analyst who joined the call adn list out the analysts who joined the call across the 3 quarters. list in tabular format\n",
            "=== Calling Function ===\n",
            "Calling function: vector_tool_CrowdStrike_FY2023_Q1 with args: {\"query\": \"analysts who joined the call\"}\n",
            "=== Function Output ===\n",
            "Brian Essex, Daniel Park, Shaul Eyal, Joseph Gallo, Brad Reback, Janet Zhang, Sterling Auty, Hamza Fodderwala, Tal Liani, John DiFucci, Brad Zelnick\n",
            "=== Calling Function ===\n",
            "Calling function: vector_tool_CrowdStrike_FY2023_Q2 with args: {\"query\": \"analysts who joined the call\"}\n",
            "=== Function Output ===\n",
            "Andrew Nowinski, Brian Essex, Joel Fishbein, Matt Hedberg, Rob Owens, Alex Henderson, Roger Boyd, Daniel Park, Joseph Gallo, Shaul Eyal, Fatima Boolani, Brad Reback, Janet Zhang, Sterling Auty, Hamza Fodderwala, Tal Liani, John DiFucci, Brad Zelnick, Joe Gallo\n",
            "=== Calling Function ===\n",
            "Calling function: vector_tool_CrowdStrike_FY2023_Q3 with args: {\"query\": \"analysts who joined the call\"}\n",
            "=== Function Output ===\n",
            "Andrew Nowinski, Brian Essex, Joel Fishbein, Matt Hedberg, Rob Owens, Alex Henderson, Roger Boyd, Daniel Park, Joseph Gallo, Shaul Eyal, Fatima Boolani, Brad Reback, Janet Zhang, Sterling Auty, Hamza Fodderwala, Tal Liani, John DiFucci, Brad Zelnick\n",
            "=== LLM Response ===\n",
            "The analysts who joined the call across the 3 quarters are as follows:\n",
            "\n",
            "- **Quarter 1:**\n",
            "  - Brian Essex\n",
            "  - Daniel Park\n",
            "  - Shaul Eyal\n",
            "  - Joseph Gallo\n",
            "  - Brad Reback\n",
            "  - Janet Zhang\n",
            "  - Sterling Auty\n",
            "  - Hamza Fodderwala\n",
            "  - Tal Liani\n",
            "  - John DiFucci\n",
            "  - Brad Zelnick\n",
            "\n",
            "- **Quarter 2:**\n",
            "  - Andrew Nowinski\n",
            "  - Brian Essex\n",
            "  - Joel Fishbein\n",
            "  - Matt Hedberg\n",
            "  - Rob Owens\n",
            "  - Alex Henderson\n",
            "  - Roger Boyd\n",
            "  - Daniel Park\n",
            "  - Joseph Gallo\n",
            "  - Shaul Eyal\n",
            "  - Fatima Boolani\n",
            "  - Brad Reback\n",
            "  - Janet Zhang\n",
            "  - Sterling Auty\n",
            "  - Hamza Fodderwala\n",
            "  - Tal Liani\n",
            "  - John DiFucci\n",
            "  - Brad Zelnick\n",
            "  - Joe Gallo\n",
            "\n",
            "- **Quarter 3:**\n",
            "  - Andrew Nowinski\n",
            "  - Brian Essex\n",
            "  - Joel Fishbein\n",
            "  - Matt Hedberg\n",
            "  - Rob Owens\n",
            "  - Alex Henderson\n",
            "  - Roger Boyd\n",
            "  - Daniel Park\n",
            "  - Joseph Gallo\n",
            "  - Shaul Eyal\n",
            "  - Fatima Boolani\n",
            "  - Brad Reback\n",
            "  - Janet Zhang\n",
            "  - Sterling Auty\n",
            "  - Hamza Fodderwala\n",
            "  - Tal Liani\n",
            "  - John DiFucci\n",
            "  - Brad Zelnick\n"
          ]
        }
      ]
    },
    {
      "cell_type": "code",
      "source": [
        "response = agent.query(\"summary of quarter 1\")"
      ],
      "metadata": {
        "colab": {
          "base_uri": "https://localhost:8080/"
        },
        "id": "SHU6vB-NlMmf",
        "outputId": "4311b95e-5241-46e4-c1de-df9999b4f85f"
      },
      "execution_count": 49,
      "outputs": [
        {
          "output_type": "stream",
          "name": "stdout",
          "text": [
            "Added user message to memory: summary of quarter 1\n",
            "=== Calling Function ===\n",
            "Calling function: summary_tool_CrowdStrike_FY2023_Q1 with args: {\"input\": \"summary\"}\n",
            "=== Function Output ===\n",
            "CrowdStrike demonstrated strong performance in the second and third quarters of fiscal year 2023, achieving record net new ARR, revenue exceeding $500 million for the first time, and significant customer growth. Despite macroeconomic headwinds impacting net new ARR, the company remains confident in its market position and the resilience of the cybersecurity market. They are focused on consolidating on the Falcon platform, driving module adoption, and expanding their market share while balancing growth with profitability and free cash flow. CrowdStrike's leadership emphasizes the favorable competitive landscape, strong win rates, and the launch of new modules to meet customer needs. The company's optimism about growth opportunities in the cybersecurity market is evident, despite ongoing macro challenges.\n",
            "=== LLM Response ===\n",
            "CrowdStrike demonstrated strong performance in the second and third quarters of fiscal year 2023, achieving record net new ARR, revenue exceeding $500 million for the first time, and significant customer growth. Despite macroeconomic headwinds impacting net new ARR, the company remains confident in its market position and the resilience of the cybersecurity market. They are focused on consolidating on the Falcon platform, driving module adoption, and expanding their market share while balancing growth with profitability and free cash flow. CrowdStrike's leadership emphasizes the favorable competitive landscape, strong win rates, and the launch of new modules to meet customer needs. The company's optimism about growth opportunities in the cybersecurity market is evident, despite ongoing macro challenges.\n"
          ]
        }
      ]
    },
    {
      "cell_type": "code",
      "source": [
        "response = agent.query(\"summary of quarter 1\")"
      ],
      "metadata": {
        "colab": {
          "base_uri": "https://localhost:8080/"
        },
        "id": "nD7z3tgxlXdl",
        "outputId": "a4f2cb46-abfb-42ff-8dd6-597a266d6a5b"
      },
      "execution_count": 21,
      "outputs": [
        {
          "output_type": "stream",
          "name": "stdout",
          "text": [
            "Added user message to memory: summary of quarter 1\n",
            "=== Calling Function ===\n",
            "Calling function: summary_tool_CrowdStrike_FY2023_Q1 with args: {\"query\": \"summary\"}\n",
            "=== Function Output ===\n",
            "CrowdStrike had a strong second quarter in fiscal year 2023, achieving record net new ARR, accelerated growth, and milestones like exceeding $2 billion (1.54 billion GBP) ARR and record revenue exceeding $500 million (385.60 million GBP) for the first time. The company added over 1,700 net new customers and saw strong module performance in Falcon Complete, Identity Protection, and Humio. Despite macroeconomic headwinds impacting net new ARR, the company remains confident in its market position and the resilience of the cybersecurity market. They are focusing on expanding their pipeline, leveraging their partner ecosystem, and maintaining a disciplined approach to unit economics. CrowdStrike aims to balance growth with profitability and free cash flow, targeting a 30% free cash flow margin in FY '24. The company is optimistic about opportunities in both existing customer expansion and acquiring new logos, with a focus on the land-and-expand model. They are investing in new technologies, international geographies, and marketing programs while maintaining strong financial performance and efficient sales motion.\n",
            "=== LLM Response ===\n",
            "The summary of quarter 1 for CrowdStrike in fiscal year 2023 highlights the company's strong performance with record net new ARR, accelerated growth, and significant milestones. CrowdStrike exceeded $2 billion ARR and achieved record revenue exceeding $500 million for the first time. The company added over 1,700 net new customers and saw strong module performance in Falcon Complete, Identity Protection, and Humio. Despite macroeconomic headwinds impacting net new ARR, CrowdStrike remains confident in its market position and the cybersecurity market's resilience. The company is focusing on expanding its pipeline, leveraging its partner ecosystem, and maintaining a disciplined approach to unit economics. CrowdStrike aims to balance growth with profitability and free cash flow, targeting a 30% free cash flow margin in FY '24. The company is optimistic about opportunities in both existing customer expansion and acquiring new logos, with a focus on the land-and-expand model. CrowdStrike is investing in new technologies, international geographies, and marketing programs while maintaining strong financial performance and an efficient sales motion.\n"
          ]
        }
      ]
    },
    {
      "cell_type": "code",
      "source": [
        "response = agent.query(\"revenue of the company in quarter 1\")"
      ],
      "metadata": {
        "colab": {
          "base_uri": "https://localhost:8080/"
        },
        "id": "PAe_Bf1uiFZt",
        "outputId": "75a340dc-7f64-42c5-b6a1-b6c49f6e70d8"
      },
      "execution_count": 23,
      "outputs": [
        {
          "output_type": "stream",
          "name": "stdout",
          "text": [
            "Added user message to memory: revenue of the company in quarter 1\n",
            "=== Calling Function ===\n",
            "Calling function: vector_tool_CrowdStrike_FY2023_Q1 with args: {\"query\": \"revenue of the company\"}\n",
            "=== Function Output ===\n",
            "The company's revenue for the third quarter was $580.9 million (447.99 million GBP), reflecting a 53% growth over the same quarter of the previous year.\n",
            "=== LLM Response ===\n",
            "The revenue of the company in quarter 1 was $580.9 million.\n"
          ]
        }
      ]
    },
    {
      "cell_type": "code",
      "source": [],
      "metadata": {
        "id": "oUm_-y_ziN2X"
      },
      "execution_count": null,
      "outputs": []
    }
  ]
}